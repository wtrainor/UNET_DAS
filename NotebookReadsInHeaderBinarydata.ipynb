{
 "cells": [
  {
   "cell_type": "markdown",
   "metadata": {},
   "source": [
    "# Reading HH files into Python"
   ]
  },
  {
   "cell_type": "code",
   "execution_count": 1,
   "metadata": {},
   "outputs": [],
   "source": [
    "import matplotlib.pyplot as plt\n",
    "import numpy as np\n",
    "import scipy.misc\n",
    "# . . This is the RSF2PY library\n",
    "import read_in_rsf as sf\n",
    "\n",
    "# . . Boo to warnings!\n",
    "np.seterr(all=\"ignore\");\n",
    "import os\n",
    "import struct\n",
    "import glob"
   ]
  },
  {
   "cell_type": "markdown",
   "metadata": {},
   "source": [
    "## Fault Labels\n",
    "Array shape: (sample, nx, ny, channel)\n",
    "\n",
    "Channel 0: Fault Class\n",
    "\n",
    "Channel 1: Non-Fault Class"
   ]
  },
  {
   "cell_type": "code",
   "execution_count": 2,
   "metadata": {},
   "outputs": [
    {
     "name": "stdout",
     "output_type": "stream",
     "text": [
      "183\n",
      "['TrueFault000.hh', 'TrueFault001.hh', 'TrueFault002.hh', 'TrueFault003.hh', 'TrueFault004.hh', 'TrueFault005.hh', 'TrueFault006.hh', 'TrueFault007.hh', 'TrueFault008.hh', 'TrueFault009.hh', 'TrueFault010.hh', 'TrueFault011.hh', 'TrueFault012.hh', 'TrueFault013.hh', 'TrueFault014.hh', 'TrueFault015.hh', 'TrueFault016.hh', 'TrueFault017.hh', 'TrueFault018.hh', 'TrueFault019.hh', 'TrueFault020.hh', 'TrueFault021.hh', 'TrueFault022.hh', 'TrueFault023.hh', 'TrueFault024.hh', 'TrueFault025.hh', 'TrueFault026.hh', 'TrueFault027.hh', 'TrueFault028.hh', 'TrueFault029.hh', 'TrueFault030.hh', 'TrueFault031.hh', 'TrueFault032.hh', 'TrueFault033.hh', 'TrueFault034.hh', 'TrueFault035.hh', 'TrueFault036.hh', 'TrueFault037.hh', 'TrueFault038.hh', 'TrueFault039.hh', 'TrueFault040.hh', 'TrueFault041.hh', 'TrueFault042.hh', 'TrueFault043.hh', 'TrueFault044.hh', 'TrueFault045.hh', 'TrueFault046.hh', 'TrueFault047.hh', 'TrueFault048.hh', 'TrueFault049.hh', 'TrueFault050.hh', 'TrueFault051.hh', 'TrueFault052.hh', 'TrueFault053.hh', 'TrueFault054.hh', 'TrueFault055.hh', 'TrueFault056.hh', 'TrueFault057.hh', 'TrueFault058.hh', 'TrueFault059.hh', 'TrueFault060.hh', 'TrueFault061.hh', 'TrueFault062.hh', 'TrueFault063.hh', 'TrueFault064.hh', 'TrueFault065.hh', 'TrueFault066.hh', 'TrueFault067.hh', 'TrueFault068.hh', 'TrueFault069.hh', 'TrueFault070.hh', 'TrueFault071.hh', 'TrueFault072.hh', 'TrueFault073.hh', 'TrueFault074.hh', 'TrueFault075.hh', 'TrueFault076.hh', 'TrueFault077.hh', 'TrueFault078.hh', 'TrueFault079.hh', 'TrueFault080.hh', 'TrueFault081.hh', 'TrueFault082.hh', 'TrueFault083.hh', 'TrueFault084.hh', 'TrueFault085.hh', 'TrueFault086.hh', 'TrueFault087.hh', 'TrueFault088.hh', 'TrueFault089.hh', 'TrueFault090.hh', 'TrueFault091.hh', 'TrueFault092.hh', 'TrueFault093.hh', 'TrueFault094.hh', 'TrueFault095.hh', 'TrueFault096.hh', 'TrueFault097.hh', 'TrueFault098.hh', 'TrueFault099.hh', 'TrueFault100.hh', 'TrueFault101.hh', 'TrueFault102.hh', 'TrueFault103.hh', 'TrueFault104.hh', 'TrueFault105.hh', 'TrueFault106.hh', 'TrueFault107.hh', 'TrueFault108.hh', 'TrueFault109.hh', 'TrueFault110.hh', 'TrueFault111.hh', 'TrueFault112.hh', 'TrueFault113.hh', 'TrueFault114.hh', 'TrueFault115.hh', 'TrueFault116.hh', 'TrueFault117.hh', 'TrueFault118.hh', 'TrueFault119.hh', 'TrueFault120.hh', 'TrueFault121.hh', 'TrueFault122.hh', 'TrueFault123.hh', 'TrueFault124.hh', 'TrueFault125.hh', 'TrueFault126.hh', 'TrueFault127.hh', 'TrueFault128.hh', 'TrueFault129.hh', 'TrueFault130.hh', 'TrueFault131.hh', 'TrueFault132.hh', 'TrueFault133.hh', 'TrueFault134.hh', 'TrueFault135.hh', 'TrueFault136.hh', 'TrueFault137.hh', 'TrueFault138.hh', 'TrueFault139.hh', 'TrueFault140.hh', 'TrueFault141.hh', 'TrueFault142.hh', 'TrueFault143.hh', 'TrueFault144.hh', 'TrueFault145.hh', 'TrueFault146.hh', 'TrueFault147.hh', 'TrueFault148.hh', 'TrueFault149.hh', 'TrueFault150.hh', 'TrueFault151.hh', 'TrueFault152.hh', 'TrueFault153.hh', 'TrueFault154.hh', 'TrueFault155.hh', 'TrueFault156.hh', 'TrueFault157.hh', 'TrueFault158.hh', 'TrueFault159.hh', 'TrueFault160.hh', 'TrueFault161.hh', 'TrueFault162.hh', 'TrueFault163.hh', 'TrueFault164.hh', 'TrueFault165.hh', 'TrueFault166.hh', 'TrueFault167.hh', 'TrueFault168.hh', 'TrueFault169.hh', 'TrueFault170.hh', 'TrueFault171.hh', 'TrueFault172.hh', 'TrueFault173.hh', 'TrueFault174.hh', 'TrueFault175.hh', 'TrueFault176.hh', 'TrueFault177.hh', 'TrueFault178.hh', 'TrueFault179.hh', 'TrueFault180.hh', 'TrueFault181.hh', 'TrueFault182.hh']\n"
     ]
    }
   ],
   "source": [
    "pathnames = glob.glob(r'truefault*')\n",
    "print(len(pathnames))\n",
    "print(pathnames)"
   ]
  },
  {
   "cell_type": "code",
   "execution_count": 3,
   "metadata": {},
   "outputs": [
    {
     "name": "stdout",
     "output_type": "stream",
     "text": [
      "(183, 150, 155, 1)\n"
     ]
    }
   ],
   "source": [
    "fault_label_cube = np.zeros((len(pathnames), 150, 155, 1))\n",
    "print(np.shape(fault_label_cube))\n",
    "for i in range(len(fault_label_cube)):\n",
    "    fault_label = sf.read_rsf_file(pathnames[i], use_memmap=True)\n",
    "    fault_label_cube[i,:,:,0] = fault_label.data[:,:,0]"
   ]
  },
  {
   "cell_type": "code",
   "execution_count": 4,
   "metadata": {},
   "outputs": [
    {
     "name": "stdout",
     "output_type": "stream",
     "text": [
      "(183, 150, 155, 2)\n"
     ]
    }
   ],
   "source": [
    "fault_label_reverse = 1-fault_label_cube\n",
    "fault_label_all = np.concatenate([fault_label_cube, fault_label_reverse], axis=-1)\n",
    "print(np.shape(fault_label_all))"
   ]
  },
  {
   "cell_type": "code",
   "execution_count": 5,
   "metadata": {},
   "outputs": [],
   "source": [
    "np.save('h_fault_labels', fault_label_all)"
   ]
  },
  {
   "cell_type": "markdown",
   "metadata": {},
   "source": [
    "## Geophone Data"
   ]
  },
  {
   "cell_type": "code",
   "execution_count": 6,
   "metadata": {},
   "outputs": [
    {
     "name": "stdout",
     "output_type": "stream",
     "text": [
      "183\n",
      "['eimg_000.hh', 'eimg_001.hh', 'eimg_002.hh', 'eimg_003.hh', 'eimg_004.hh', 'eimg_005.hh', 'eimg_006.hh', 'eimg_007.hh', 'eimg_008.hh', 'eimg_009.hh', 'eimg_010.hh', 'eimg_011.hh', 'eimg_012.hh', 'eimg_013.hh', 'eimg_014.hh', 'eimg_015.hh', 'eimg_016.hh', 'eimg_017.hh', 'eimg_018.hh', 'eimg_019.hh', 'eimg_020.hh', 'eimg_021.hh', 'eimg_022.hh', 'eimg_023.hh', 'eimg_024.hh', 'eimg_025.hh', 'eimg_026.hh', 'eimg_027.hh', 'eimg_028.hh', 'eimg_029.hh', 'eimg_030.hh', 'eimg_031.hh', 'eimg_032.hh', 'eimg_033.hh', 'eimg_034.hh', 'eimg_035.hh', 'eimg_036.hh', 'eimg_037.hh', 'eimg_038.hh', 'eimg_039.hh', 'eimg_040.hh', 'eimg_041.hh', 'eimg_042.hh', 'eimg_043.hh', 'eimg_044.hh', 'eimg_045.hh', 'eimg_046.hh', 'eimg_047.hh', 'eimg_048.hh', 'eimg_049.hh', 'eimg_050.hh', 'eimg_051.hh', 'eimg_052.hh', 'eimg_053.hh', 'eimg_054.hh', 'eimg_055.hh', 'eimg_056.hh', 'eimg_057.hh', 'eimg_058.hh', 'eimg_059.hh', 'eimg_060.hh', 'eimg_061.hh', 'eimg_062.hh', 'eimg_063.hh', 'eimg_064.hh', 'eimg_065.hh', 'eimg_066.hh', 'eimg_067.hh', 'eimg_068.hh', 'eimg_069.hh', 'eimg_070.hh', 'eimg_071.hh', 'eimg_072.hh', 'eimg_073.hh', 'eimg_074.hh', 'eimg_075.hh', 'eimg_076.hh', 'eimg_077.hh', 'eimg_078.hh', 'eimg_079.hh', 'eimg_080.hh', 'eimg_081.hh', 'eimg_082.hh', 'eimg_083.hh', 'eimg_084.hh', 'eimg_085.hh', 'eimg_086.hh', 'eimg_087.hh', 'eimg_088.hh', 'eimg_089.hh', 'eimg_090.hh', 'eimg_091.hh', 'eimg_092.hh', 'eimg_093.hh', 'eimg_094.hh', 'eimg_095.hh', 'eimg_096.hh', 'eimg_097.hh', 'eimg_098.hh', 'eimg_099.hh', 'eimg_100.hh', 'eimg_101.hh', 'eimg_102.hh', 'eimg_103.hh', 'eimg_104.hh', 'eimg_105.hh', 'eimg_106.hh', 'eimg_107.hh', 'eimg_108.hh', 'eimg_109.hh', 'eimg_110.hh', 'eimg_111.hh', 'eimg_112.hh', 'eimg_113.hh', 'eimg_114.hh', 'eimg_115.hh', 'eimg_116.hh', 'eimg_117.hh', 'eimg_118.hh', 'eimg_119.hh', 'eimg_120.hh', 'eimg_121.hh', 'eimg_122.hh', 'eimg_123.hh', 'eimg_124.hh', 'eimg_125.hh', 'eimg_126.hh', 'eimg_127.hh', 'eimg_128.hh', 'eimg_129.hh', 'eimg_130.hh', 'eimg_131.hh', 'eimg_132.hh', 'eimg_133.hh', 'eimg_134.hh', 'eimg_135.hh', 'eimg_136.hh', 'eimg_137.hh', 'eimg_138.hh', 'eimg_139.hh', 'eimg_140.hh', 'eimg_141.hh', 'eimg_142.hh', 'eimg_143.hh', 'eimg_144.hh', 'eimg_145.hh', 'eimg_146.hh', 'eimg_147.hh', 'eimg_148.hh', 'eimg_149.hh', 'eimg_150.hh', 'eimg_151.hh', 'eimg_152.hh', 'eimg_153.hh', 'eimg_154.hh', 'eimg_155.hh', 'eimg_156.hh', 'eimg_157.hh', 'eimg_158.hh', 'eimg_159.hh', 'eimg_160.hh', 'eimg_161.hh', 'eimg_162.hh', 'eimg_163.hh', 'eimg_164.hh', 'eimg_165.hh', 'eimg_166.hh', 'eimg_167.hh', 'eimg_168.hh', 'eimg_169.hh', 'eimg_170.hh', 'eimg_171.hh', 'eimg_172.hh', 'eimg_173.hh', 'eimg_174.hh', 'eimg_175.hh', 'eimg_176.hh', 'eimg_177.hh', 'eimg_178.hh', 'eimg_179.hh', 'eimg_180.hh', 'eimg_181.hh', 'eimg_182.hh']\n"
     ]
    }
   ],
   "source": [
    "pathnames = glob.glob(r'eimg_*')\n",
    "print(len(pathnames))\n",
    "print(pathnames)"
   ]
  },
  {
   "cell_type": "code",
   "execution_count": 7,
   "metadata": {},
   "outputs": [
    {
     "name": "stdout",
     "output_type": "stream",
     "text": [
      "(183, 150, 155, 1)\n"
     ]
    }
   ],
   "source": [
    "geophone_data_cube = np.zeros((len(pathnames), 150, 155, 1))\n",
    "print(np.shape(geophone_data_cube))\n",
    "for i in range(len(geophone_data_cube)):\n",
    "    geophone = sf.read_rsf_file(pathnames[i], use_memmap=True)\n",
    "    geophone_data_cube[i,:,:] = geophone.data[:,:,0]"
   ]
  },
  {
   "cell_type": "code",
   "execution_count": 8,
   "metadata": {},
   "outputs": [],
   "source": [
    "np.save('h_geophone_data', geophone_data_cube)"
   ]
  },
  {
   "cell_type": "markdown",
   "metadata": {},
   "source": [
    "## DAS Data"
   ]
  },
  {
   "cell_type": "code",
   "execution_count": 9,
   "metadata": {},
   "outputs": [
    {
     "name": "stdout",
     "output_type": "stream",
     "text": [
      "183\n",
      "['eimgdas_000.hh', 'eimgdas_001.hh', 'eimgdas_002.hh', 'eimgdas_003.hh', 'eimgdas_004.hh', 'eimgdas_005.hh', 'eimgdas_006.hh', 'eimgdas_007.hh', 'eimgdas_008.hh', 'eimgdas_009.hh', 'eimgdas_010.hh', 'eimgdas_011.hh', 'eimgdas_012.hh', 'eimgdas_013.hh', 'eimgdas_014.hh', 'eimgdas_015.hh', 'eimgdas_016.hh', 'eimgdas_017.hh', 'eimgdas_018.hh', 'eimgdas_019.hh', 'eimgdas_020.hh', 'eimgdas_021.hh', 'eimgdas_022.hh', 'eimgdas_023.hh', 'eimgdas_024.hh', 'eimgdas_025.hh', 'eimgdas_026.hh', 'eimgdas_027.hh', 'eimgdas_028.hh', 'eimgdas_029.hh', 'eimgdas_030.hh', 'eimgdas_031.hh', 'eimgdas_032.hh', 'eimgdas_033.hh', 'eimgdas_034.hh', 'eimgdas_035.hh', 'eimgdas_036.hh', 'eimgdas_037.hh', 'eimgdas_038.hh', 'eimgdas_039.hh', 'eimgdas_040.hh', 'eimgdas_041.hh', 'eimgdas_042.hh', 'eimgdas_043.hh', 'eimgdas_044.hh', 'eimgdas_045.hh', 'eimgdas_046.hh', 'eimgdas_047.hh', 'eimgdas_048.hh', 'eimgdas_049.hh', 'eimgdas_050.hh', 'eimgdas_051.hh', 'eimgdas_052.hh', 'eimgdas_053.hh', 'eimgdas_054.hh', 'eimgdas_055.hh', 'eimgdas_056.hh', 'eimgdas_057.hh', 'eimgdas_058.hh', 'eimgdas_059.hh', 'eimgdas_060.hh', 'eimgdas_061.hh', 'eimgdas_062.hh', 'eimgdas_063.hh', 'eimgdas_064.hh', 'eimgdas_065.hh', 'eimgdas_066.hh', 'eimgdas_067.hh', 'eimgdas_068.hh', 'eimgdas_069.hh', 'eimgdas_070.hh', 'eimgdas_071.hh', 'eimgdas_072.hh', 'eimgdas_073.hh', 'eimgdas_074.hh', 'eimgdas_075.hh', 'eimgdas_076.hh', 'eimgdas_077.hh', 'eimgdas_078.hh', 'eimgdas_079.hh', 'eimgdas_080.hh', 'eimgdas_081.hh', 'eimgdas_082.hh', 'eimgdas_083.hh', 'eimgdas_084.hh', 'eimgdas_085.hh', 'eimgdas_086.hh', 'eimgdas_087.hh', 'eimgdas_088.hh', 'eimgdas_089.hh', 'eimgdas_090.hh', 'eimgdas_091.hh', 'eimgdas_092.hh', 'eimgdas_093.hh', 'eimgdas_094.hh', 'eimgdas_095.hh', 'eimgdas_096.hh', 'eimgdas_097.hh', 'eimgdas_098.hh', 'eimgdas_099.hh', 'eimgdas_100.hh', 'eimgdas_101.hh', 'eimgdas_102.hh', 'eimgdas_103.hh', 'eimgdas_104.hh', 'eimgdas_105.hh', 'eimgdas_106.hh', 'eimgdas_107.hh', 'eimgdas_108.hh', 'eimgdas_109.hh', 'eimgdas_110.hh', 'eimgdas_111.hh', 'eimgdas_112.hh', 'eimgdas_113.hh', 'eimgdas_114.hh', 'eimgdas_115.hh', 'eimgdas_116.hh', 'eimgdas_117.hh', 'eimgdas_118.hh', 'eimgdas_119.hh', 'eimgdas_120.hh', 'eimgdas_121.hh', 'eimgdas_122.hh', 'eimgdas_123.hh', 'eimgdas_124.hh', 'eimgdas_125.hh', 'eimgdas_126.hh', 'eimgdas_127.hh', 'eimgdas_128.hh', 'eimgdas_129.hh', 'eimgdas_130.hh', 'eimgdas_131.hh', 'eimgdas_132.hh', 'eimgdas_133.hh', 'eimgdas_134.hh', 'eimgdas_135.hh', 'eimgdas_136.hh', 'eimgdas_137.hh', 'eimgdas_138.hh', 'eimgdas_139.hh', 'eimgdas_140.hh', 'eimgdas_141.hh', 'eimgdas_142.hh', 'eimgdas_143.hh', 'eimgdas_144.hh', 'eimgdas_145.hh', 'eimgdas_146.hh', 'eimgdas_147.hh', 'eimgdas_148.hh', 'eimgdas_149.hh', 'eimgdas_150.hh', 'eimgdas_151.hh', 'eimgdas_152.hh', 'eimgdas_153.hh', 'eimgdas_154.hh', 'eimgdas_155.hh', 'eimgdas_156.hh', 'eimgdas_157.hh', 'eimgdas_158.hh', 'eimgdas_159.hh', 'eimgdas_160.hh', 'eimgdas_161.hh', 'eimgdas_162.hh', 'eimgdas_163.hh', 'eimgdas_164.hh', 'eimgdas_165.hh', 'eimgdas_166.hh', 'eimgdas_167.hh', 'eimgdas_168.hh', 'eimgdas_169.hh', 'eimgdas_170.hh', 'eimgdas_171.hh', 'eimgdas_172.hh', 'eimgdas_173.hh', 'eimgdas_174.hh', 'eimgdas_175.hh', 'eimgdas_176.hh', 'eimgdas_177.hh', 'eimgdas_178.hh', 'eimgdas_179.hh', 'eimgdas_180.hh', 'eimgdas_181.hh', 'eimgdas_182.hh']\n"
     ]
    }
   ],
   "source": [
    "pathnames = glob.glob(r'eimgdas*')\n",
    "print(len(pathnames))\n",
    "print(pathnames)"
   ]
  },
  {
   "cell_type": "code",
   "execution_count": 10,
   "metadata": {},
   "outputs": [
    {
     "name": "stdout",
     "output_type": "stream",
     "text": [
      "(183, 150, 155, 1)\n"
     ]
    }
   ],
   "source": [
    "DAS_data_cube = np.zeros((len(pathnames), 150, 155, 1))\n",
    "print(np.shape(DAS_data_cube))\n",
    "for i in range(len(DAS_data_cube)):\n",
    "    DAS = sf.read_rsf_file(pathnames[i], use_memmap=True)\n",
    "    DAS_data_cube[i,:,:] = DAS.data[:,:,0]"
   ]
  },
  {
   "cell_type": "code",
   "execution_count": 11,
   "metadata": {},
   "outputs": [],
   "source": [
    "np.save('h_DAS_data', DAS_data_cube)"
   ]
  },
  {
   "cell_type": "markdown",
   "metadata": {},
   "source": [
    "## Combined Data"
   ]
  },
  {
   "cell_type": "code",
   "execution_count": 12,
   "metadata": {},
   "outputs": [
    {
     "name": "stdout",
     "output_type": "stream",
     "text": [
      "183\n",
      "['toteimg_000.hh', 'toteimg_001.hh', 'toteimg_002.hh', 'toteimg_003.hh', 'toteimg_004.hh', 'toteimg_005.hh', 'toteimg_006.hh', 'toteimg_007.hh', 'toteimg_008.hh', 'toteimg_009.hh', 'toteimg_010.hh', 'toteimg_011.hh', 'toteimg_012.hh', 'toteimg_013.hh', 'toteimg_014.hh', 'toteimg_015.hh', 'toteimg_016.hh', 'toteimg_017.hh', 'toteimg_018.hh', 'toteimg_019.hh', 'toteimg_020.hh', 'toteimg_021.hh', 'toteimg_022.hh', 'toteimg_023.hh', 'toteimg_024.hh', 'toteimg_025.hh', 'toteimg_026.hh', 'toteimg_027.hh', 'toteimg_028.hh', 'toteimg_029.hh', 'toteimg_030.hh', 'toteimg_031.hh', 'toteimg_032.hh', 'toteimg_033.hh', 'toteimg_034.hh', 'toteimg_035.hh', 'toteimg_036.hh', 'toteimg_037.hh', 'toteimg_038.hh', 'toteimg_039.hh', 'toteimg_040.hh', 'toteimg_041.hh', 'toteimg_042.hh', 'toteimg_043.hh', 'toteimg_044.hh', 'toteimg_045.hh', 'toteimg_046.hh', 'toteimg_047.hh', 'toteimg_048.hh', 'toteimg_049.hh', 'toteimg_050.hh', 'toteimg_051.hh', 'toteimg_052.hh', 'toteimg_053.hh', 'toteimg_054.hh', 'toteimg_055.hh', 'toteimg_056.hh', 'toteimg_057.hh', 'toteimg_058.hh', 'toteimg_059.hh', 'toteimg_060.hh', 'toteimg_061.hh', 'toteimg_062.hh', 'toteimg_063.hh', 'toteimg_064.hh', 'toteimg_065.hh', 'toteimg_066.hh', 'toteimg_067.hh', 'toteimg_068.hh', 'toteimg_069.hh', 'toteimg_070.hh', 'toteimg_071.hh', 'toteimg_072.hh', 'toteimg_073.hh', 'toteimg_074.hh', 'toteimg_075.hh', 'toteimg_076.hh', 'toteimg_077.hh', 'toteimg_078.hh', 'toteimg_079.hh', 'toteimg_080.hh', 'toteimg_081.hh', 'toteimg_082.hh', 'toteimg_083.hh', 'toteimg_084.hh', 'toteimg_085.hh', 'toteimg_086.hh', 'toteimg_087.hh', 'toteimg_088.hh', 'toteimg_089.hh', 'toteimg_090.hh', 'toteimg_091.hh', 'toteimg_092.hh', 'toteimg_093.hh', 'toteimg_094.hh', 'toteimg_095.hh', 'toteimg_096.hh', 'toteimg_097.hh', 'toteimg_098.hh', 'toteimg_099.hh', 'toteimg_100.hh', 'toteimg_101.hh', 'toteimg_102.hh', 'toteimg_103.hh', 'toteimg_104.hh', 'toteimg_105.hh', 'toteimg_106.hh', 'toteimg_107.hh', 'toteimg_108.hh', 'toteimg_109.hh', 'toteimg_110.hh', 'toteimg_111.hh', 'toteimg_112.hh', 'toteimg_113.hh', 'toteimg_114.hh', 'toteimg_115.hh', 'toteimg_116.hh', 'toteimg_117.hh', 'toteimg_118.hh', 'toteimg_119.hh', 'toteimg_120.hh', 'toteimg_121.hh', 'toteimg_122.hh', 'toteimg_123.hh', 'toteimg_124.hh', 'toteimg_125.hh', 'toteimg_126.hh', 'toteimg_127.hh', 'toteimg_128.hh', 'toteimg_129.hh', 'toteimg_130.hh', 'toteimg_131.hh', 'toteimg_132.hh', 'toteimg_133.hh', 'toteimg_134.hh', 'toteimg_135.hh', 'toteimg_136.hh', 'toteimg_137.hh', 'toteimg_138.hh', 'toteimg_139.hh', 'toteimg_140.hh', 'toteimg_141.hh', 'toteimg_142.hh', 'toteimg_143.hh', 'toteimg_144.hh', 'toteimg_145.hh', 'toteimg_146.hh', 'toteimg_147.hh', 'toteimg_148.hh', 'toteimg_149.hh', 'toteimg_150.hh', 'toteimg_151.hh', 'toteimg_152.hh', 'toteimg_153.hh', 'toteimg_154.hh', 'toteimg_155.hh', 'toteimg_156.hh', 'toteimg_157.hh', 'toteimg_158.hh', 'toteimg_159.hh', 'toteimg_160.hh', 'toteimg_161.hh', 'toteimg_162.hh', 'toteimg_163.hh', 'toteimg_164.hh', 'toteimg_165.hh', 'toteimg_166.hh', 'toteimg_167.hh', 'toteimg_168.hh', 'toteimg_169.hh', 'toteimg_170.hh', 'toteimg_171.hh', 'toteimg_172.hh', 'toteimg_173.hh', 'toteimg_174.hh', 'toteimg_175.hh', 'toteimg_176.hh', 'toteimg_177.hh', 'toteimg_178.hh', 'toteimg_179.hh', 'toteimg_180.hh', 'toteimg_181.hh', 'toteimg_182.hh']\n"
     ]
    }
   ],
   "source": [
    "pathnames = glob.glob(r'toteimg*')\n",
    "print(len(pathnames))\n",
    "print(pathnames)"
   ]
  },
  {
   "cell_type": "code",
   "execution_count": 13,
   "metadata": {},
   "outputs": [
    {
     "name": "stdout",
     "output_type": "stream",
     "text": [
      "(183, 150, 155, 1)\n"
     ]
    }
   ],
   "source": [
    "combined_data_cube = np.zeros((len(pathnames), 150, 155, 1))\n",
    "print(np.shape(combined_data_cube))\n",
    "for i in range(len(combined_data_cube)):\n",
    "    combined = sf.read_rsf_file(pathnames[i], use_memmap=True)\n",
    "    combined_data_cube[i,:,:] = combined.data[:,:,0]"
   ]
  },
  {
   "cell_type": "code",
   "execution_count": 14,
   "metadata": {},
   "outputs": [],
   "source": [
    "np.save('h_combined_data', combined_data_cube)"
   ]
  },
  {
   "cell_type": "code",
   "execution_count": null,
   "metadata": {},
   "outputs": [],
   "source": []
  }
 ],
 "metadata": {
  "kernelspec": {
   "display_name": "Python 3",
   "language": "python",
   "name": "python3"
  },
  "language_info": {
   "codemirror_mode": {
    "name": "ipython",
    "version": 3
   },
   "file_extension": ".py",
   "mimetype": "text/x-python",
   "name": "python",
   "nbconvert_exporter": "python",
   "pygments_lexer": "ipython3",
   "version": "3.6.8"
  }
 },
 "nbformat": 4,
 "nbformat_minor": 2
}
