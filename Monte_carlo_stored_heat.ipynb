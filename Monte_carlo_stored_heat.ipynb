{
  "nbformat": 4,
  "nbformat_minor": 0,
  "metadata": {
    "colab": {
      "name": "Monte_carlo_stored_heat.ipynb",
      "provenance": [],
      "collapsed_sections": [],
      "toc_visible": true,
      "include_colab_link": true
    },
    "kernelspec": {
      "name": "python3",
      "display_name": "Python 3"
    },
    "language_info": {
      "name": "python"
    }
  },
  "cells": [
    {
      "cell_type": "markdown",
      "metadata": {
        "id": "view-in-github",
        "colab_type": "text"
      },
      "source": [
        "<a href=\"https://colab.research.google.com/github/wtrainor/UNET_DAS/blob/main/Monte_carlo_stored_heat.ipynb\" target=\"_parent\"><img src=\"https://colab.research.google.com/assets/colab-badge.svg\" alt=\"Open In Colab\"/></a>"
      ]
    },
    {
      "cell_type": "code",
      "metadata": {
        "id": "UKDMvpXETEvw"
      },
      "source": [
        "import numpy as np\n",
        "import matplotlib.pyplot as plt\n",
        "import scipy.stats as stats\n",
        "\n"
      ],
      "execution_count": 1,
      "outputs": []
    },
    {
      "cell_type": "markdown",
      "source": [
        "#Define variables for statistical distributions\n",
        "\n",
        "- reservoir volume\n",
        "- reservoir temperature\n",
        "- recovery factor\n",
        "$R_f = \\frac{q_{wh}}{q}$\n",
        "\n",
        "where\n",
        "$q_{wh}$ is thermal energy from the wellhead \n",
        "\n",
        "Recovery factor is tied to the reference/base temperature. Look at Table 4 in Ciriaco et al. >20% looks high\n",
        "\n",
        "USA Fracture dominated: 5-20%, $\\mu=10\\%$ \"*varies on assumed reservoir size and geometry*\"\n",
        "\n",
        "5% +/-2% for \"*wide reservoir definition, reference temp=ambient*\""
      ],
      "metadata": {
        "id": "ODXW3hy6L0op"
      }
    },
    {
      "cell_type": "code",
      "source": [
        "mu_volume = 5 #5 B&R 10-SAM mean of reservoir volume, km^3\n",
        "sigma_volume = 2 #standard deviation of reservoir volume, km^3\n",
        "\n",
        "mu_T_res = 150 #150 B&R 250-SAM #mean of reservoir temperature, deg C\n",
        "sigma_T_res = 20 #standard deviation of reservoir temperature, deg C\n",
        "\n",
        "low_R = 0.01 #minimum estimate of recovery factor\n",
        "mode_R = 0.05 #most likely estimate of recovery factor\n",
        "high_R = 0.1 #maximum estimate of recovery factor"
      ],
      "metadata": {
        "id": "6ZFnB0-gLsfB"
      },
      "execution_count": 2,
      "outputs": []
    },
    {
      "cell_type": "markdown",
      "source": [
        "## USGS Plant Capacity Function\n",
        "thermal energy in rock and fluid.\n",
        "I think there was a typo\n",
        "```\n",
        "convert m^3 to km^3\n",
        "```\n",
        "switched this..."
      ],
      "metadata": {
        "id": "S3Enw9kVL9pR"
      }
    },
    {
      "cell_type": "markdown",
      "source": [
        "Triangular distribution of Reservoir temperature"
      ],
      "metadata": {
        "id": "nEwnuVND1ZrD"
      }
    },
    {
      "cell_type": "code",
      "source": [
        "min_T = 200\n",
        "most_likely_T = 230\n",
        "max_T = 300"
      ],
      "metadata": {
        "id": "NP1WQm9xL5Qm"
      },
      "execution_count": 3,
      "outputs": []
    },
    {
      "cell_type": "markdown",
      "source": [
        "Equations 6 & 13 in \n",
        "<div class=\"csl-entry\">Ciriaco, A. E., Zarrouk, S. J., &#38; Zakeri, G. (2020). Geothermal resource and reserve assessment methodology: Overview, analysis and future directions. In <i>Renewable and Sustainable Energy Reviews</i> (Vol. 119). Elsevier Ltd. https://doi.org/10.1016/j.rser.2019.109515</div>\n",
        "\n",
        "which says that 90% of energy comes from rock, not fluid\n",
        "\n",
        "$U = ((1-\\phi)c_{pr}\\rho_r + \\phi c_{pf} rho_f)(T_{res}-T_{ref})*volume$"
      ],
      "metadata": {
        "id": "R9873hNv26CY"
      }
    },
    {
      "cell_type": "code",
      "source": [
        "def CalculatePlantCapacityStochastic(T_ref = 50, #reference temperature (degC)\n",
        "                                     c_pf = 4870, #fluid heat capacity J / (kg degC) \n",
        "                                     rho_f = 800, #fluid density kg m^-3\n",
        "                                     phi = 0.1, #porosity\n",
        "                                     c_pr = 900, #rock heat capacity J / (kg K) \n",
        "                                     rho_r = 2900, #rock density kg m^-3\n",
        "                                     eta_c = 0.1, #Conversion efficiency\n",
        "                                     lifespan = 20, #in years \n",
        "                                     load_factor = 0.8 #load factor\n",
        "                                    ):\n",
        "    volume = -1 #quick fix to ensure that volume is positive\n",
        "    while volume < 0:  #quick fix to ensure that volume is positive\n",
        "        volume = np.random.normal(mu_volume,sigma_volume)*1e9 #sample volume from normal distribution, convert km^3 to m^3\n",
        "    T_res = np.random.normal(mu_T_res,sigma_T_res) #sample temperature from normal distribution\n",
        "    #T_res = np.random.triangular(min_T, most_likely_T, max_T)\n",
        "\n",
        "    U = ((1-phi)*c_pr*rho_r + phi*c_pf*rho_f)*(T_res-T_ref)*volume\n",
        "\n",
        "    #R = np.random.beta(a=2, b=18)#sample recovery factor from beta distribution\n",
        "    #R = np.random.uniform(0.05,0.2)#sample recovery factor from uniform distribution\n",
        "    R = np.random.triangular(low_R, mode_R, high_R)#sample recovery factor from triangular distribution\n",
        "    # EQUATION 6 of Ciriaco: THERMAL ENERGY\n",
        "    MWe = ((U*eta_c*R)/1e6)/(load_factor*lifespan*60*60*24*365)\n",
        "    return MWe"
      ],
      "metadata": {
        "id": "puzhEicrL5jF"
      },
      "execution_count": 4,
      "outputs": []
    },
    {
      "cell_type": "code",
      "source": [
        "#?np.random.normal"
      ],
      "metadata": {
        "id": "hn4DlqRbyVsK"
      },
      "execution_count": 5,
      "outputs": []
    },
    {
      "cell_type": "markdown",
      "source": [
        "# Monte Carlo step"
      ],
      "metadata": {
        "id": "LStswLrHMC5M"
      }
    },
    {
      "cell_type": "code",
      "source": [
        "num_trials = 500000 #Number of times plant capacity will be calculated will be recalculated\n",
        "capacities = [CalculatePlantCapacityStochastic() for i in range(num_trials)] #So easy! \n",
        "\n",
        "#Obtaining the statistics of the calculated plant capacities\n",
        "#Below I fit a normal distribution to the calculated capacities \n",
        "mu_norm, std_norm = stats.norm.fit(capacities)\n",
        "#Below I fit a lognormal distribution to the calculated capacities\n",
        "fitting_params_lognorm  = stats.lognorm.fit(capacities, loc=2.6)  #loc parameter determined by trial and error\n",
        "lognorm_dist_fitted = stats.lognorm(*fitting_params_lognorm)\n"
      ],
      "metadata": {
        "id": "9pisXVmKLx9V"
      },
      "execution_count": 6,
      "outputs": []
    },
    {
      "cell_type": "code",
      "source": [
        "fig, ax = plt.subplots()\n",
        "ax.hist(capacities, bins=100, color='lightblue')\n",
        "ax.set_ylabel('Count')\n",
        "ax.set_xlabel('Power plant capacity (MWe)')\n",
        "ax.set_xlim(0,400)\n",
        "ax2 = ax.twinx()\n",
        "x = np.linspace(0, 400, 1000)\n",
        "ax2.plot(x, stats.norm.pdf(x, mu_norm, std_norm), label='normal distribution' )\n",
        "ax2.plot(x, lognorm_dist_fitted.pdf(x), 'k-', label='log normal distribution' )\n",
        "ax2.set_ylabel('Probability density')\n",
        "ax2.set_ylim(0)\n",
        "ax2.legend()\n",
        "fig.tight_layout()"
      ],
      "metadata": {
        "colab": {
          "base_uri": "https://localhost:8080/",
          "height": 297
        },
        "id": "ckarilHwMk1_",
        "outputId": "d4053b69-4f35-44ea-e233-e8e8837168a2"
      },
      "execution_count": 7,
      "outputs": [
        {
          "output_type": "display_data",
          "data": {
            "image/png": "[encoded data removed]",
            "text/plain": [
              "<Figure size 432x288 with 2 Axes>"
            ]
          },
          "metadata": {
            "needs_background": "light"
          }
        }
      ]
    },
    {
      "cell_type": "markdown",
      "source": [
        "P10, P50, P90\n",
        "Use this distribution of MegaWatts for Vprior calculation"
      ],
      "metadata": {
        "id": "lNewh8eq0RPc"
      }
    },
    {
      "cell_type": "code",
      "metadata": {
        "colab": {
          "base_uri": "https://localhost:8080/"
        },
        "id": "0EtoAYNCiZOH",
        "outputId": "418de3a1-0708-4226-ba23-5de6168f4597"
      },
      "source": [
        "np.percentile(capacities, (10, 50, 90))"
      ],
      "execution_count": 8,
      "outputs": [
        {
          "output_type": "execute_result",
          "data": {
            "text/plain": [
              "array([ 5.09209586, 13.065373  , 25.98862964])"
            ]
          },
          "metadata": {},
          "execution_count": 8
        }
      ]
    },
    {
      "cell_type": "markdown",
      "source": [
        "# Use `pymc3` instead!\n",
        "\n",
        "pasting in from `gempy` right now"
      ],
      "metadata": {
        "id": "7Dpi6lZM5N6A"
      }
    },
    {
      "cell_type": "code",
      "source": [
        "import pymc3 as pm"
      ],
      "metadata": {
        "id": "hzWfI3Wn5Qvx"
      },
      "execution_count": 9,
      "outputs": []
    },
    {
      "cell_type": "code",
      "source": [
        "import arviz as az"
      ],
      "metadata": {
        "id": "6vGvJk96C_1C"
      },
      "execution_count": 10,
      "outputs": []
    },
    {
      "cell_type": "code",
      "source": [
        "import theano.tensor as tt"
      ],
      "metadata": {
        "id": "aaSvEpXtOh1P"
      },
      "execution_count": 11,
      "outputs": []
    },
    {
      "cell_type": "code",
      "source": [
        "# def sample_Energy(resTi,resVoli):\n",
        "    \n",
        "#     T_ref = 50, #reference temperature (degC)\n",
        "#     c_pf = 4870, #fluid heat capacity J / (kg degC) \n",
        "#     rho_f = 800, #fluid density kg m^-3\n",
        "#     phi = 0.1, #porosity\n",
        "#     c_pr = 900, #rock heat capacity J / (kg K) \n",
        "#     rho_r = 2900, #rock density kg m^-3\n",
        "#     eta_c = 0.1, #Conversion efficiency\n",
        "#     lifespan = 20, #in years \n",
        "#     load_factor = 0.8 #load factor\n",
        "                                  \n",
        "#     volume = resVoli*1e9 #sample volume from normal distribution, convert km^3 to m^3\n",
        "#     T_res = resTi\n",
        "#     print(T_res,volume)\n",
        "#     U = ((1-phi)*c_pr*rho_r + phi*c_pf*rho_f)*(T_res-T_ref)*volume\n",
        "#     return U\n",
        "\n",
        "# class getTherm(tt.Op):\n",
        "#     itypes = [tt.fvector]\n",
        "#     otypes = [tt.dvector]\n",
        "\n",
        "#     def perform(self, node, inputs, outputs):\n",
        "#         theta, = inputs\n",
        "#         print('theta',theta)\n",
        "#         mu = sample_Energy(theta)#HERE\n",
        "#         outputs[0][0] = np.array(mu)\n",
        "\n",
        "# pymc_therm = getTherm()"
      ],
      "metadata": {
        "id": "sRzx4BHRMfBT"
      },
      "execution_count": 12,
      "outputs": []
    },
    {
      "cell_type": "markdown",
      "source": [
        "### Sam's deterministic rock, fluid, plant values"
      ],
      "metadata": {
        "id": "d2Eww0DLPg6F"
      }
    },
    {
      "cell_type": "code",
      "source": [
        "T_ref = 15 #Sam had 50, reference temperature (degC); should this be ambient (15 or 20)? rejection or separation?\n",
        "           # USGS used 15, Sam had 50\n",
        "c_pf = 4870 #fluid heat capacity J / (kg degC) \n",
        "rho_f = 800 #fluid density kg m^-3\n",
        "phi = 0.1 #porosity; should be pm.Triangular (lower=0.05,mode=0.05,upper=0.15), Figure 4 of Ciriaco\n",
        "c_pr = 900 #rock heat capacity J / (kg K) \n",
        "rho_r = 2900 #rock density kg m^-3\n",
        "eta_c = 0.1 #Conversion efficiency\n",
        "lifespan = 20 #in years \n",
        "load_factor = 0.8 #load factor"
      ],
      "metadata": {
        "id": "Ovo9qNQM-fKy"
      },
      "execution_count": 13,
      "outputs": []
    },
    {
      "cell_type": "code",
      "source": [
        "(1.0-phi)*c_pr*rho_r + (phi*c_pf*rho_f)#*(resT-T_ref)*resVol\n",
        "#U = ((1-phi)*c_pr*rho_r + phi*c_pf*rho_f)*(T_res-T_ref)*volume\n",
        "#((1.0-phi)*c_pr*rho_r + (phi*c_pf*rho_f))*(resT-T_ref)*resVol"
      ],
      "metadata": {
        "colab": {
          "base_uri": "https://localhost:8080/"
        },
        "id": "iiTcnFgIAaO0",
        "outputId": "18fa359e-f156-4608-ccb8-9b3dd198bad6"
      },
      "execution_count": 14,
      "outputs": [
        {
          "output_type": "execute_result",
          "data": {
            "text/plain": [
              "2738600.0"
            ]
          },
          "metadata": {},
          "execution_count": 14
        }
      ]
    },
    {
      "cell_type": "code",
      "source": [
        "mu_T_res, sigma_T_res"
      ],
      "metadata": {
        "colab": {
          "base_uri": "https://localhost:8080/"
        },
        "id": "Toa_uJ41Lydt",
        "outputId": "d72a1f3b-a86e-4abd-e828-25a78b579d8d"
      },
      "execution_count": 15,
      "outputs": [
        {
          "output_type": "execute_result",
          "data": {
            "text/plain": [
              "(150, 20)"
            ]
          },
          "metadata": {},
          "execution_count": 15
        }
      ]
    },
    {
      "cell_type": "markdown",
      "source": [
        "## `with pm.Model() as model`"
      ],
      "metadata": {
        "id": "KqX5WnB6Ap95"
      }
    },
    {
      "cell_type": "code",
      "source": [
        "with pm.Model() as model:\n",
        "#     Z_var = pm.Normal('Z_var', mu=0, sigma=5, dtype='float32', shape=2)\n",
        "      resT = pm.Normal('resT', mu=mu_T_res, sigma=sigma_T_res, shape=1)\n",
        "      # resVol = pm.Normal('resVol', mu=mu_volume, sigma=sigma_volume, shape=1)\n",
        "      resVol = pm.TruncatedNormal('resVol', mu=mu_volume, sigma=sigma_volume, lower=0)\n",
        "      muU = ((1.0-phi)*c_pr*rho_r + (phi*c_pf*rho_f))*(resT-T_ref)*resVol*1e9 #km**3 to m**3\n",
        "      # ThermalEnergy = pm.Deterministic('ThermalEnergy', muU)\n",
        "      RecoveryFactor = pm.Triangular('RecoveryFactor',lower=low_R, c=mode_R, upper=high_R)#sample recovery factor from triangular distribution\n",
        "      # EQUATION 6 of Ciriaco: THERMAL ENERGY\n",
        "      MWe = ((muU*eta_c*RecoveryFactor)/1e6)/(load_factor*lifespan*60*60*24*365)\n",
        "      MegaWatts = pm.Deterministic('MegaWatts', MWe)"
      ],
      "metadata": {
        "id": "K-WxXVbc5SfN"
      },
      "execution_count": 16,
      "outputs": []
    },
    {
      "cell_type": "code",
      "source": [
        "#ThermalEnergy #resT # resTandVol  #\n",
        "MegaWatts"
      ],
      "metadata": {
        "colab": {
          "base_uri": "https://localhost:8080/",
          "height": 55
        },
        "id": "-Z0lp8ce_91I",
        "outputId": "c20ae284-e79d-45d3-bb4b-eb73adb0dbf3"
      },
      "execution_count": 17,
      "outputs": [
        {
          "output_type": "execute_result",
          "data": {
            "text/latex": "$\\text{MegaWatts} \\sim \\text{Deterministic}(\\text{Constant},~\\text{resT},~\\text{Constant},~\\text{resVol_lowerbound__},~\\text{Constant},~\\text{Constant},~\\text{Constant},~\\text{RecoveryFactor_interval__},~\\text{Constant},~\\text{Constant},~\\text{RecoveryFactor_interval__},~\\text{Constant},~\\text{Constant},~\\text{Constant})$",
            "text/plain": [
              "MegaWatts ~ Deterministic"
            ]
          },
          "metadata": {},
          "execution_count": 17
        }
      ]
    },
    {
      "cell_type": "code",
      "source": [
        "resVol\n",
        "#resT"
      ],
      "metadata": {
        "colab": {
          "base_uri": "https://localhost:8080/",
          "height": 39
        },
        "id": "AUFVEC0JKxdo",
        "outputId": "c8098c70-d39e-45aa-e4c8-dfbf9dd9338d"
      },
      "execution_count": 18,
      "outputs": [
        {
          "output_type": "execute_result",
          "data": {
            "text/latex": "$\\text{resVol} \\sim \\text{TruncatedNormal}(\\mathit{mu}=5.0,~\\mathit{sigma}=2.0,~\\mathit{lower}=0.0,~\\mathit{upper}=inf)$",
            "text/plain": [
              "resVol ~ TruncatedNormal"
            ]
          },
          "metadata": {},
          "execution_count": 18
        }
      ]
    },
    {
      "cell_type": "markdown",
      "source": [
        "9 seconds for 10,000"
      ],
      "metadata": {
        "id": "HLJiJU_OFWRK"
      }
    },
    {
      "cell_type": "code",
      "source": [
        "with model:\n",
        "#    trace = pm.sample(500, cores=1, chains=1,\n",
        "#                     step = pm.Metropolis(), tune =50)\n",
        "   trace = pm.sample(10000, cores=1, chains=1, tune =50) # num_trials instead of 200 ??"
      ],
      "metadata": {
        "colab": {
          "base_uri": "https://localhost:8080/",
          "height": 217
        },
        "id": "JWzIR_JcAu6M",
        "outputId": "44415824-8086-4d53-cd43-3145a3e43f5c"
      },
      "execution_count": 19,
      "outputs": [
        {
          "output_type": "stream",
          "name": "stderr",
          "text": [
            "/usr/local/lib/python3.7/dist-packages/ipykernel_launcher.py:4: FutureWarning: In v4.0, pm.sample will return an `arviz.InferenceData` object instead of a `MultiTrace` by default. You can pass return_inferencedata=True or return_inferencedata=False to be safe and silence this warning.\n",
            "  after removing the cwd from sys.path.\n",
            "Auto-assigning NUTS sampler...\n",
            "Initializing NUTS using jitter+adapt_diag...\n",
            "Sequential sampling (1 chains in 1 job)\n",
            "NUTS: [RecoveryFactor, resVol, resT]\n"
          ]
        },
        {
          "output_type": "display_data",
          "data": {
            "text/html": [
              "\n",
              "<style>\n",
              "    /* Turns off some styling */\n",
              "    progress {\n",
              "        /* gets rid of default border in Firefox and Opera. */\n",
              "        border: none;\n",
              "        /* Needs to be in here for Safari polyfill so background images work as expected. */\n",
              "        background-size: auto;\n",
              "    }\n",
              "    .progress-bar-interrupted, .progress-bar-interrupted::-webkit-progress-bar {\n",
              "        background: #F44336;\n",
              "    }\n",
              "</style>\n"
            ],
            "text/plain": [
              "<IPython.core.display.HTML object>"
            ]
          },
          "metadata": {}
        },
        {
          "output_type": "display_data",
          "data": {
            "text/html": [
              "\n",
              "    <div>\n",
              "      <progress value='10050' class='' max='10050' style='width:300px; height:20px; vertical-align: middle;'></progress>\n",
              "      100.00% [10050/10050 00:13<00:00 Sampling chain 0, 0 divergences]\n",
              "    </div>\n",
              "    "
            ],
            "text/plain": [
              "<IPython.core.display.HTML object>"
            ]
          },
          "metadata": {}
        },
        {
          "output_type": "stream",
          "name": "stderr",
          "text": [
            "Sampling 1 chain for 50 tune and 10_000 draw iterations (50 + 10_000 draws total) took 14 seconds.\n",
            "The acceptance probability does not match the target. It is 0.9510421725204844, but should be close to 0.8. Try to increase the number of tuning steps.\n",
            "Only one chain was sampled, this makes it impossible to run some convergence checks\n"
          ]
        }
      ]
    },
    {
      "cell_type": "code",
      "source": [
        "data = az.from_pymc3(trace=trace)"
      ],
      "metadata": {
        "colab": {
          "base_uri": "https://localhost:8080/"
        },
        "id": "GbQKqwpKAsT_",
        "outputId": "90936b77-6a3c-43da-c39e-4be8e8b5bca8"
      },
      "execution_count": 20,
      "outputs": [
        {
          "output_type": "stream",
          "name": "stderr",
          "text": [
            "Got error No model on context stack. trying to find log_likelihood in translation.\n",
            "/usr/local/lib/python3.7/dist-packages/arviz/data/io_pymc3_3x.py:102: FutureWarning: Using `from_pymc3` without the model will be deprecated in a future release. Not using the model will return less accurate and less useful results. Make sure you use the model argument or call from_pymc3 within a model context.\n",
            "  FutureWarning,\n"
          ]
        }
      ]
    },
    {
      "cell_type": "markdown",
      "source": [
        "### Save / Load the data"
      ],
      "metadata": {
        "id": "izoqVearE3r6"
      }
    },
    {
      "cell_type": "code",
      "source": [
        "\n",
        "#data.to_netcdf('T_resjunk')\n",
        "#data = az.from_netcdf('T_resjunk')\n"
      ],
      "metadata": {
        "id": "eKmvgQIgC86N"
      },
      "execution_count": 21,
      "outputs": []
    },
    {
      "cell_type": "code",
      "source": [
        "data.posterior"
      ],
      "metadata": {
        "colab": {
          "base_uri": "https://localhost:8080/",
          "height": 433
        },
        "id": "WY2iZVUtE2aM",
        "outputId": "c13ab709-1d90-4b1a-c13a-12b64da7ee15"
      },
      "execution_count": 22,
      "outputs": [
        {
          "output_type": "execute_result",
          "data": {
            "text/html": [
              "<div><svg style=\"position: absolute; width: 0; height: 0; overflow: hidden\">\n",
              "<defs>\n",
              "<symbol id=\"icon-database\" viewBox=\"0 0 32 32\">\n",
              "<path d=\"M16 0c-8.837 0-16 2.239-16 5v4c0 2.761 7.163 5 16 5s16-2.239 16-5v-4c0-2.761-7.163-5-16-5z\"></path>\n",
              "<path d=\"M16 17c-8.837 0-16-2.239-16-5v6c0 2.761 7.163 5 16 5s16-2.239 16-5v-6c0 2.761-7.163 5-16 5z\"></path>\n",
              "<path d=\"M16 26c-8.837 0-16-2.239-16-5v6c0 2.761 7.163 5 16 5s16-2.239 16-5v-6c0 2.761-7.163 5-16 5z\"></path>\n",
              "</symbol>\n",
              "<symbol id=\"icon-file-text2\" viewBox=\"0 0 32 32\">\n",
              "<path d=\"M28.681 7.159c-0.694-0.947-1.662-2.053-2.724-3.116s-2.169-2.030-3.116-2.724c-1.612-1.182-2.393-1.319-2.841-1.319h-15.5c-1.378 0-2.5 1.121-2.5 2.5v27c0 1.378 1.122 2.5 2.5 2.5h23c1.378 0 2.5-1.122 2.5-2.5v-19.5c0-0.448-0.137-1.23-1.319-2.841zM24.543 5.457c0.959 0.959 1.712 1.825 2.268 2.543h-4.811v-4.811c0.718 0.556 1.584 1.309 2.543 2.268zM28 29.5c0 0.271-0.229 0.5-0.5 0.5h-23c-0.271 0-0.5-0.229-0.5-0.5v-27c0-0.271 0.229-0.5 0.5-0.5 0 0 15.499-0 15.5 0v7c0 0.552 0.448 1 1 1h7v19.5z\"></path>\n",
              "<path d=\"M23 26h-14c-0.552 0-1-0.448-1-1s0.448-1 1-1h14c0.552 0 1 0.448 1 1s-0.448 1-1 1z\"></path>\n",
              "<path d=\"M23 22h-14c-0.552 0-1-0.448-1-1s0.448-1 1-1h14c0.552 0 1 0.448 1 1s-0.448 1-1 1z\"></path>\n",
              "<path d=\"M23 18h-14c-0.552 0-1-0.448-1-1s0.448-1 1-1h14c0.552 0 1 0.448 1 1s-0.448 1-1 1z\"></path>\n",
              "</symbol>\n",
              "</defs>\n",
              "</svg>\n",
              "<style>/* CSS stylesheet for displaying xarray objects in jupyterlab.\n",
              " *\n",
              " */\n",
              "\n",
              ":root {\n",
              "  --xr-font-color0: var(--jp-content-font-color0, rgba(0, 0, 0, 1));\n",
              "  --xr-font-color2: var(--jp-content-font-color2, rgba(0, 0, 0, 0.54));\n",
              "  --xr-font-color3: var(--jp-content-font-color3, rgba(0, 0, 0, 0.38));\n",
              "  --xr-border-color: var(--jp-border-color2, #e0e0e0);\n",
              "  --xr-disabled-color: var(--jp-layout-color3, #bdbdbd);\n",
              "  --xr-background-color: var(--jp-layout-color0, white);\n",
              "  --xr-background-color-row-even: var(--jp-layout-color1, white);\n",
              "  --xr-background-color-row-odd: var(--jp-layout-color2, #eeeeee);\n",
              "}\n",
              "\n",
              "html[theme=dark],\n",
              "body.vscode-dark {\n",
              "  --xr-font-color0: rgba(255, 255, 255, 1);\n",
              "  --xr-font-color2: rgba(255, 255, 255, 0.54);\n",
              "  --xr-font-color3: rgba(255, 255, 255, 0.38);\n",
              "  --xr-border-color: #1F1F1F;\n",
              "  --xr-disabled-color: #515151;\n",
              "  --xr-background-color: #111111;\n",
              "  --xr-background-color-row-even: #111111;\n",
              "  --xr-background-color-row-odd: #313131;\n",
              "}\n",
              "\n",
              ".xr-wrap {\n",
              "  display: block;\n",
              "  min-width: 300px;\n",
              "  max-width: 700px;\n",
              "}\n",
              "\n",
              ".xr-text-repr-fallback {\n",
              "  /* fallback to plain text repr when CSS is not injected (untrusted notebook) */\n",
              "  display: none;\n",
              "}\n",
              "\n",
              ".xr-header {\n",
              "  padding-top: 6px;\n",
              "  padding-bottom: 6px;\n",
              "  margin-bottom: 4px;\n",
              "  border-bottom: solid 1px var(--xr-border-color);\n",
              "}\n",
              "\n",
              ".xr-header > div,\n",
              ".xr-header > ul {\n",
              "  display: inline;\n",
              "  margin-top: 0;\n",
              "  margin-bottom: 0;\n",
              "}\n",
              "\n",
              ".xr-obj-type,\n",
              ".xr-array-name {\n",
              "  margin-left: 2px;\n",
              "  margin-right: 10px;\n",
              "}\n",
              "\n",
              ".xr-obj-type {\n",
              "  color: var(--xr-font-color2);\n",
              "}\n",
              "\n",
              ".xr-sections {\n",
              "  padding-left: 0 !important;\n",
              "  display: grid;\n",
              "  grid-template-columns: 150px auto auto 1fr 20px 20px;\n",
              "}\n",
              "\n",
              ".xr-section-item {\n",
              "  display: contents;\n",
              "}\n",
              "\n",
              ".xr-section-item input {\n",
              "  display: none;\n",
              "}\n",
              "\n",
              ".xr-section-item input + label {\n",
              "  color: var(--xr-disabled-color);\n",
              "}\n",
              "\n",
              ".xr-section-item input:enabled + label {\n",
              "  cursor: pointer;\n",
              "  color: var(--xr-font-color2);\n",
              "}\n",
              "\n",
              ".xr-section-item input:enabled + label:hover {\n",
              "  color: var(--xr-font-color0);\n",
              "}\n",
              "\n",
              ".xr-section-summary {\n",
              "  grid-column: 1;\n",
              "  color: var(--xr-font-color2);\n",
              "  font-weight: 500;\n",
              "}\n",
              "\n",
              ".xr-section-summary > span {\n",
              "  display: inline-block;\n",
              "  padding-left: 0.5em;\n",
              "}\n",
              "\n",
              ".xr-section-summary-in:disabled + label {\n",
              "  color: var(--xr-font-color2);\n",
              "}\n",
              "\n",
              ".xr-section-summary-in + label:before {\n",
              "  display: inline-block;\n",
              "  content: '►';\n",
              "  font-size: 11px;\n",
              "  width: 15px;\n",
              "  text-align: center;\n",
              "}\n",
              "\n",
              ".xr-section-summary-in:disabled + label:before {\n",
              "  color: var(--xr-disabled-color);\n",
              "}\n",
              "\n",
              ".xr-section-summary-in:checked + label:before {\n",
              "  content: '▼';\n",
              "}\n",
              "\n",
              ".xr-section-summary-in:checked + label > span {\n",
              "  display: none;\n",
              "}\n",
              "\n",
              ".xr-section-summary,\n",
              ".xr-section-inline-details {\n",
              "  padding-top: 4px;\n",
              "  padding-bottom: 4px;\n",
              "}\n",
              "\n",
              ".xr-section-inline-details {\n",
              "  grid-column: 2 / -1;\n",
              "}\n",
              "\n",
              ".xr-section-details {\n",
              "  display: none;\n",
              "  grid-column: 1 / -1;\n",
              "  margin-bottom: 5px;\n",
              "}\n",
              "\n",
              ".xr-section-summary-in:checked ~ .xr-section-details {\n",
              "  display: contents;\n",
              "}\n",
              "\n",
              ".xr-array-wrap {\n",
              "  grid-column: 1 / -1;\n",
              "  display: grid;\n",
              "  grid-template-columns: 20px auto;\n",
              "}\n",
              "\n",
              ".xr-array-wrap > label {\n",
              "  grid-column: 1;\n",
              "  vertical-align: top;\n",
              "}\n",
              "\n",
              ".xr-preview {\n",
              "  color: var(--xr-font-color3);\n",
              "}\n",
              "\n",
              ".xr-array-preview,\n",
              ".xr-array-data {\n",
              "  padding: 0 5px !important;\n",
              "  grid-column: 2;\n",
              "}\n",
              "\n",
              ".xr-array-data,\n",
              ".xr-array-in:checked ~ .xr-array-preview {\n",
              "  display: none;\n",
              "}\n",
              "\n",
              ".xr-array-in:checked ~ .xr-array-data,\n",
              ".xr-array-preview {\n",
              "  display: inline-block;\n",
              "}\n",
              "\n",
              ".xr-dim-list {\n",
              "  display: inline-block !important;\n",
              "  list-style: none;\n",
              "  padding: 0 !important;\n",
              "  margin: 0;\n",
              "}\n",
              "\n",
              ".xr-dim-list li {\n",
              "  display: inline-block;\n",
              "  padding: 0;\n",
              "  margin: 0;\n",
              "}\n",
              "\n",
              ".xr-dim-list:before {\n",
              "  content: '(';\n",
              "}\n",
              "\n",
              ".xr-dim-list:after {\n",
              "  content: ')';\n",
              "}\n",
              "\n",
              ".xr-dim-list li:not(:last-child):after {\n",
              "  content: ',';\n",
              "  padding-right: 5px;\n",
              "}\n",
              "\n",
              ".xr-has-index {\n",
              "  font-weight: bold;\n",
              "}\n",
              "\n",
              ".xr-var-list,\n",
              ".xr-var-item {\n",
              "  display: contents;\n",
              "}\n",
              "\n",
              ".xr-var-item > div,\n",
              ".xr-var-item label,\n",
              ".xr-var-item > .xr-var-name span {\n",
              "  background-color: var(--xr-background-color-row-even);\n",
              "  margin-bottom: 0;\n",
              "}\n",
              "\n",
              ".xr-var-item > .xr-var-name:hover span {\n",
              "  padding-right: 5px;\n",
              "}\n",
              "\n",
              ".xr-var-list > li:nth-child(odd) > div,\n",
              ".xr-var-list > li:nth-child(odd) > label,\n",
              ".xr-var-list > li:nth-child(odd) > .xr-var-name span {\n",
              "  background-color: var(--xr-background-color-row-odd);\n",
              "}\n",
              "\n",
              ".xr-var-name {\n",
              "  grid-column: 1;\n",
              "}\n",
              "\n",
              ".xr-var-dims {\n",
              "  grid-column: 2;\n",
              "}\n",
              "\n",
              ".xr-var-dtype {\n",
              "  grid-column: 3;\n",
              "  text-align: right;\n",
              "  color: var(--xr-font-color2);\n",
              "}\n",
              "\n",
              ".xr-var-preview {\n",
              "  grid-column: 4;\n",
              "}\n",
              "\n",
              ".xr-var-name,\n",
              ".xr-var-dims,\n",
              ".xr-var-dtype,\n",
              ".xr-preview,\n",
              ".xr-attrs dt {\n",
              "  white-space: nowrap;\n",
              "  overflow: hidden;\n",
              "  text-overflow: ellipsis;\n",
              "  padding-right: 10px;\n",
              "}\n",
              "\n",
              ".xr-var-name:hover,\n",
              ".xr-var-dims:hover,\n",
              ".xr-var-dtype:hover,\n",
              ".xr-attrs dt:hover {\n",
              "  overflow: visible;\n",
              "  width: auto;\n",
              "  z-index: 1;\n",
              "}\n",
              "\n",
              ".xr-var-attrs,\n",
              ".xr-var-data {\n",
              "  display: none;\n",
              "  background-color: var(--xr-background-color) !important;\n",
              "  padding-bottom: 5px !important;\n",
              "}\n",
              "\n",
              ".xr-var-attrs-in:checked ~ .xr-var-attrs,\n",
              ".xr-var-data-in:checked ~ .xr-var-data {\n",
              "  display: block;\n",
              "}\n",
              "\n",
              ".xr-var-data > table {\n",
              "  float: right;\n",
              "}\n",
              "\n",
              ".xr-var-name span,\n",
              ".xr-var-data,\n",
              ".xr-attrs {\n",
              "  padding-left: 25px !important;\n",
              "}\n",
              "\n",
              ".xr-attrs,\n",
              ".xr-var-attrs,\n",
              ".xr-var-data {\n",
              "  grid-column: 1 / -1;\n",
              "}\n",
              "\n",
              "dl.xr-attrs {\n",
              "  padding: 0;\n",
              "  margin: 0;\n",
              "  display: grid;\n",
              "  grid-template-columns: 125px auto;\n",
              "}\n",
              "\n",
              ".xr-attrs dt,\n",
              ".xr-attrs dd {\n",
              "  padding: 0;\n",
              "  margin: 0;\n",
              "  float: left;\n",
              "  padding-right: 10px;\n",
              "  width: auto;\n",
              "}\n",
              "\n",
              ".xr-attrs dt {\n",
              "  font-weight: normal;\n",
              "  grid-column: 1;\n",
              "}\n",
              "\n",
              ".xr-attrs dt:hover span {\n",
              "  display: inline-block;\n",
              "  background: var(--xr-background-color);\n",
              "  padding-right: 10px;\n",
              "}\n",
              "\n",
              ".xr-attrs dd {\n",
              "  grid-column: 2;\n",
              "  white-space: pre-wrap;\n",
              "  word-break: break-all;\n",
              "}\n",
              "\n",
              ".xr-icon-database,\n",
              ".xr-icon-file-text2 {\n",
              "  display: inline-block;\n",
              "  vertical-align: middle;\n",
              "  width: 1em;\n",
              "  height: 1.5em !important;\n",
              "  stroke-width: 0;\n",
              "  stroke: currentColor;\n",
              "  fill: currentColor;\n",
              "}\n",
              "</style><pre class='xr-text-repr-fallback'>&lt;xarray.Dataset&gt;\n",
              "Dimensions:          (MegaWatts_dim_0: 1, chain: 1, draw: 10000, resT_dim_0: 1)\n",
              "Coordinates:\n",
              "  * chain            (chain) int64 0\n",
              "  * draw             (draw) int64 0 1 2 3 4 5 ... 9994 9995 9996 9997 9998 9999\n",
              "  * resT_dim_0       (resT_dim_0) int64 0\n",
              "  * MegaWatts_dim_0  (MegaWatts_dim_0) int64 0\n",
              "Data variables:\n",
              "    resT             (chain, draw, resT_dim_0) float64 181.2 187.7 ... 126.8\n",
              "    resVol           (chain, draw) float64 5.374 4.425 7.428 ... 3.932 4.009\n",
              "    RecoveryFactor   (chain, draw) float64 0.07169 0.05337 ... 0.07141 0.08381\n",
              "    MegaWatts        (chain, draw, MegaWatts_dim_0) float64 34.76 ... 20.39\n",
              "Attributes:\n",
              "    created_at:                 2022-02-23T11:57:40.997815\n",
              "    arviz_version:              0.11.4\n",
              "    inference_library:          pymc3\n",
              "    inference_library_version:  3.11.4\n",
              "    sampling_time:              13.588584661483765\n",
              "    tuning_steps:               50</pre><div class='xr-wrap' hidden><div class='xr-header'><div class='xr-obj-type'>xarray.Dataset</div></div><ul class='xr-sections'><li class='xr-section-item'><input id='section-70791340-a04c-4285-a911-68f40d1e5ca6' class='xr-section-summary-in' type='checkbox' disabled ><label for='section-70791340-a04c-4285-a911-68f40d1e5ca6' class='xr-section-summary'  title='Expand/collapse section'>Dimensions:</label><div class='xr-section-inline-details'><ul class='xr-dim-list'><li><span class='xr-has-index'>MegaWatts_dim_0</span>: 1</li><li><span class='xr-has-index'>chain</span>: 1</li><li><span class='xr-has-index'>draw</span>: 10000</li><li><span class='xr-has-index'>resT_dim_0</span>: 1</li></ul></div><div class='xr-section-details'></div></li><li class='xr-section-item'><input id='section-30b7260e-b355-40a9-a455-98f86773f533' class='xr-section-summary-in' type='checkbox'  checked><label for='section-30b7260e-b355-40a9-a455-98f86773f533' class='xr-section-summary' >Coordinates: <span>(4)</span></label><div class='xr-section-inline-details'></div><div class='xr-section-details'><ul class='xr-var-list'><li class='xr-var-item'><div class='xr-var-name'><span class='xr-has-index'>chain</span></div><div class='xr-var-dims'>(chain)</div><div class='xr-var-dtype'>int64</div><div class='xr-var-preview xr-preview'>0</div><input id='attrs-de0dbe46-447c-4288-b632-75ccc95186ed' class='xr-var-attrs-in' type='checkbox' disabled><label for='attrs-de0dbe46-447c-4288-b632-75ccc95186ed' title='Show/Hide attributes'><svg class='icon xr-icon-file-text2'><use xlink:href='#icon-file-text2'></use></svg></label><input id='data-a28f973c-c18f-41db-9ac2-a53108f6d0fb' class='xr-var-data-in' type='checkbox'><label for='data-a28f973c-c18f-41db-9ac2-a53108f6d0fb' title='Show/Hide data repr'><svg class='icon xr-icon-database'><use xlink:href='#icon-database'></use></svg></label><div class='xr-var-attrs'><dl class='xr-attrs'></dl></div><div class='xr-var-data'><pre>array([0])</pre></div></li><li class='xr-var-item'><div class='xr-var-name'><span class='xr-has-index'>draw</span></div><div class='xr-var-dims'>(draw)</div><div class='xr-var-dtype'>int64</div><div class='xr-var-preview xr-preview'>0 1 2 3 4 ... 9996 9997 9998 9999</div><input id='attrs-25b482ac-983e-40ae-8c1b-203614ceea2b' class='xr-var-attrs-in' type='checkbox' disabled><label for='attrs-25b482ac-983e-40ae-8c1b-203614ceea2b' title='Show/Hide attributes'><svg class='icon xr-icon-file-text2'><use xlink:href='#icon-file-text2'></use></svg></label><input id='data-9a98bb1e-b3c2-4a68-b104-1efeea690012' class='xr-var-data-in' type='checkbox'><label for='data-9a98bb1e-b3c2-4a68-b104-1efeea690012' title='Show/Hide data repr'><svg class='icon xr-icon-database'><use xlink:href='#icon-database'></use></svg></label><div class='xr-var-attrs'><dl class='xr-attrs'></dl></div><div class='xr-var-data'><pre>array([   0,    1,    2, ..., 9997, 9998, 9999])</pre></div></li><li class='xr-var-item'><div class='xr-var-name'><span class='xr-has-index'>resT_dim_0</span></div><div class='xr-var-dims'>(resT_dim_0)</div><div class='xr-var-dtype'>int64</div><div class='xr-var-preview xr-preview'>0</div><input id='attrs-96a6b611-f998-402f-a773-0f5767a945b3' class='xr-var-attrs-in' type='checkbox' disabled><label for='attrs-96a6b611-f998-402f-a773-0f5767a945b3' title='Show/Hide attributes'><svg class='icon xr-icon-file-text2'><use xlink:href='#icon-file-text2'></use></svg></label><input id='data-f54c31d3-5a91-4246-9ca3-5c330af78b9e' class='xr-var-data-in' type='checkbox'><label for='data-f54c31d3-5a91-4246-9ca3-5c330af78b9e' title='Show/Hide data repr'><svg class='icon xr-icon-database'><use xlink:href='#icon-database'></use></svg></label><div class='xr-var-attrs'><dl class='xr-attrs'></dl></div><div class='xr-var-data'><pre>array([0])</pre></div></li><li class='xr-var-item'><div class='xr-var-name'><span class='xr-has-index'>MegaWatts_dim_0</span></div><div class='xr-var-dims'>(MegaWatts_dim_0)</div><div class='xr-var-dtype'>int64</div><div class='xr-var-preview xr-preview'>0</div><input id='attrs-59cc2a6b-1208-47b6-9119-d3a049a2eb25' class='xr-var-attrs-in' type='checkbox' disabled><label for='attrs-59cc2a6b-1208-47b6-9119-d3a049a2eb25' title='Show/Hide attributes'><svg class='icon xr-icon-file-text2'><use xlink:href='#icon-file-text2'></use></svg></label><input id='data-2599c417-b737-4465-a6e0-d519dfdaae07' class='xr-var-data-in' type='checkbox'><label for='data-2599c417-b737-4465-a6e0-d519dfdaae07' title='Show/Hide data repr'><svg class='icon xr-icon-database'><use xlink:href='#icon-database'></use></svg></label><div class='xr-var-attrs'><dl class='xr-attrs'></dl></div><div class='xr-var-data'><pre>array([0])</pre></div></li></ul></div></li><li class='xr-section-item'><input id='section-4e42c073-0b8a-4646-9614-1ea57fb62673' class='xr-section-summary-in' type='checkbox'  checked><label for='section-4e42c073-0b8a-4646-9614-1ea57fb62673' class='xr-section-summary' >Data variables: <span>(4)</span></label><div class='xr-section-inline-details'></div><div class='xr-section-details'><ul class='xr-var-list'><li class='xr-var-item'><div class='xr-var-name'><span>resT</span></div><div class='xr-var-dims'>(chain, draw, resT_dim_0)</div><div class='xr-var-dtype'>float64</div><div class='xr-var-preview xr-preview'>181.2 187.7 167.9 ... 178.3 126.8</div><input id='attrs-86c7f530-031f-4035-bfc8-065b2d74dc2d' class='xr-var-attrs-in' type='checkbox' disabled><label for='attrs-86c7f530-031f-4035-bfc8-065b2d74dc2d' title='Show/Hide attributes'><svg class='icon xr-icon-file-text2'><use xlink:href='#icon-file-text2'></use></svg></label><input id='data-3d0af4bc-419e-4ffd-b4fe-93f8a801f572' class='xr-var-data-in' type='checkbox'><label for='data-3d0af4bc-419e-4ffd-b4fe-93f8a801f572' title='Show/Hide data repr'><svg class='icon xr-icon-database'><use xlink:href='#icon-database'></use></svg></label><div class='xr-var-attrs'><dl class='xr-attrs'></dl></div><div class='xr-var-data'><pre>array([[[181.22935755],\n",
              "        [187.70605859],\n",
              "        [167.93954594],\n",
              "        ...,\n",
              "        [188.4497816 ],\n",
              "        [178.26518844],\n",
              "        [126.81669955]]])</pre></div></li><li class='xr-var-item'><div class='xr-var-name'><span>resVol</span></div><div class='xr-var-dims'>(chain, draw)</div><div class='xr-var-dtype'>float64</div><div class='xr-var-preview xr-preview'>5.374 4.425 7.428 ... 3.932 4.009</div><input id='attrs-ac13e1b5-1219-46cf-8fc8-8d7fbbc99a2f' class='xr-var-attrs-in' type='checkbox' disabled><label for='attrs-ac13e1b5-1219-46cf-8fc8-8d7fbbc99a2f' title='Show/Hide attributes'><svg class='icon xr-icon-file-text2'><use xlink:href='#icon-file-text2'></use></svg></label><input id='data-a1175283-0f11-4098-b282-efdbed52446f' class='xr-var-data-in' type='checkbox'><label for='data-a1175283-0f11-4098-b282-efdbed52446f' title='Show/Hide data repr'><svg class='icon xr-icon-database'><use xlink:href='#icon-database'></use></svg></label><div class='xr-var-attrs'><dl class='xr-attrs'></dl></div><div class='xr-var-data'><pre>array([[5.3742862 , 4.42536739, 7.42848101, ..., 4.42549584, 3.93190418,\n",
              "        4.00906295]])</pre></div></li><li class='xr-var-item'><div class='xr-var-name'><span>RecoveryFactor</span></div><div class='xr-var-dims'>(chain, draw)</div><div class='xr-var-dtype'>float64</div><div class='xr-var-preview xr-preview'>0.07169 0.05337 ... 0.07141 0.08381</div><input id='attrs-65102467-ca54-482d-b921-58240716d4f0' class='xr-var-attrs-in' type='checkbox' disabled><label for='attrs-65102467-ca54-482d-b921-58240716d4f0' title='Show/Hide attributes'><svg class='icon xr-icon-file-text2'><use xlink:href='#icon-file-text2'></use></svg></label><input id='data-05719f5f-9c0e-444c-b60a-2b2bf35d95a3' class='xr-var-data-in' type='checkbox'><label for='data-05719f5f-9c0e-444c-b60a-2b2bf35d95a3' title='Show/Hide data repr'><svg class='icon xr-icon-database'><use xlink:href='#icon-database'></use></svg></label><div class='xr-var-attrs'><dl class='xr-attrs'></dl></div><div class='xr-var-data'><pre>array([[0.07169465, 0.05336527, 0.037833  , ..., 0.0744729 , 0.07141153,\n",
              "        0.08381182]])</pre></div></li><li class='xr-var-item'><div class='xr-var-name'><span>MegaWatts</span></div><div class='xr-var-dims'>(chain, draw, MegaWatts_dim_0)</div><div class='xr-var-dtype'>float64</div><div class='xr-var-preview xr-preview'>34.76 22.14 23.33 ... 24.88 20.39</div><input id='attrs-19c2c214-4ada-4e63-acce-917b9202d079' class='xr-var-attrs-in' type='checkbox' disabled><label for='attrs-19c2c214-4ada-4e63-acce-917b9202d079' title='Show/Hide attributes'><svg class='icon xr-icon-file-text2'><use xlink:href='#icon-file-text2'></use></svg></label><input id='data-c4707ff9-faf5-422d-8a49-e9fbbf0ea08c' class='xr-var-data-in' type='checkbox'><label for='data-c4707ff9-faf5-422d-8a49-e9fbbf0ea08c' title='Show/Hide data repr'><svg class='icon xr-icon-database'><use xlink:href='#icon-database'></use></svg></label><div class='xr-var-attrs'><dl class='xr-attrs'></dl></div><div class='xr-var-data'><pre>array([[[34.76300018],\n",
              "        [22.13694101],\n",
              "        [23.32880994],\n",
              "        ...,\n",
              "        [31.02672722],\n",
              "        [24.88094568],\n",
              "        [20.39185894]]])</pre></div></li></ul></div></li><li class='xr-section-item'><input id='section-59e43afd-e997-4f5c-820e-7434d9d60ef2' class='xr-section-summary-in' type='checkbox'  checked><label for='section-59e43afd-e997-4f5c-820e-7434d9d60ef2' class='xr-section-summary' >Attributes: <span>(6)</span></label><div class='xr-section-inline-details'></div><div class='xr-section-details'><dl class='xr-attrs'><dt><span>created_at :</span></dt><dd>2022-02-23T11:57:40.997815</dd><dt><span>arviz_version :</span></dt><dd>0.11.4</dd><dt><span>inference_library :</span></dt><dd>pymc3</dd><dt><span>inference_library_version :</span></dt><dd>3.11.4</dd><dt><span>sampling_time :</span></dt><dd>13.588584661483765</dd><dt><span>tuning_steps :</span></dt><dd>50</dd></dl></div></li></ul></div></div>"
            ],
            "text/plain": [
              "<xarray.Dataset>\n",
              "Dimensions:          (MegaWatts_dim_0: 1, chain: 1, draw: 10000, resT_dim_0: 1)\n",
              "Coordinates:\n",
              "  * chain            (chain) int64 0\n",
              "  * draw             (draw) int64 0 1 2 3 4 5 ... 9994 9995 9996 9997 9998 9999\n",
              "  * resT_dim_0       (resT_dim_0) int64 0\n",
              "  * MegaWatts_dim_0  (MegaWatts_dim_0) int64 0\n",
              "Data variables:\n",
              "    resT             (chain, draw, resT_dim_0) float64 181.2 187.7 ... 126.8\n",
              "    resVol           (chain, draw) float64 5.374 4.425 7.428 ... 3.932 4.009\n",
              "    RecoveryFactor   (chain, draw) float64 0.07169 0.05337 ... 0.07141 0.08381\n",
              "    MegaWatts        (chain, draw, MegaWatts_dim_0) float64 34.76 ... 20.39\n",
              "Attributes:\n",
              "    created_at:                 2022-02-23T11:57:40.997815\n",
              "    arviz_version:              0.11.4\n",
              "    inference_library:          pymc3\n",
              "    inference_library_version:  3.11.4\n",
              "    sampling_time:              13.588584661483765\n",
              "    tuning_steps:               50"
            ]
          },
          "metadata": {},
          "execution_count": 22
        }
      ]
    },
    {
      "cell_type": "code",
      "source": [
        "print(np.shape(data.posterior.draw))\n",
        "print(np.shape(data.posterior.resT))"
      ],
      "metadata": {
        "colab": {
          "base_uri": "https://localhost:8080/"
        },
        "id": "dJV2Pmi-E8RO",
        "outputId": "03ae2304-816a-4386-d9e2-82a884f8fa44"
      },
      "execution_count": 23,
      "outputs": [
        {
          "output_type": "stream",
          "name": "stdout",
          "text": [
            "(10000,)\n",
            "(1, 10000, 1)\n"
          ]
        }
      ]
    },
    {
      "cell_type": "code",
      "source": [
        "az.plot_trace(data, var_names=['MegaWatts'], legend=True); "
      ],
      "metadata": {
        "colab": {
          "base_uri": "https://localhost:8080/",
          "height": 171
        },
        "id": "DTTnvpYQFDwU",
        "outputId": "6692744a-791d-4e14-bf8f-8892b1219d0a"
      },
      "execution_count": 24,
      "outputs": [
        {
          "output_type": "display_data",
          "data": {
            "image/png": "[encoded data removed]",
            "text/plain": [
              "<Figure size 864x144 with 2 Axes>"
            ]
          },
          "metadata": {
            "needs_background": "light"
          }
        }
      ]
    },
    {
      "cell_type": "code",
      "source": [
        "az.plot_trace(data, var_names=['resT'], legend=True); "
      ],
      "metadata": {
        "colab": {
          "base_uri": "https://localhost:8080/",
          "height": 171
        },
        "outputId": "bdcf9360-1738-43af-c482-694acd2f163e",
        "id": "k9-1C5DsOGZk"
      },
      "execution_count": 25,
      "outputs": [
        {
          "output_type": "display_data",
          "data": {
            "image/png": "[encoded data removed]",
            "text/plain": [
              "<Figure size 864x144 with 2 Axes>"
            ]
          },
          "metadata": {
            "needs_background": "light"
          }
        }
      ]
    },
    {
      "cell_type": "code",
      "source": [
        "az.plot_trace(data, var_names=['resVol'], legend=True); \n",
        "print(mu_volume, sigma_volume)"
      ],
      "metadata": {
        "colab": {
          "base_uri": "https://localhost:8080/",
          "height": 189
        },
        "id": "18YS3V7uFmgp",
        "outputId": "f40d0f7a-a775-45d9-e868-29abe47cea2d"
      },
      "execution_count": 26,
      "outputs": [
        {
          "output_type": "stream",
          "name": "stdout",
          "text": [
            "5 2\n"
          ]
        },
        {
          "output_type": "display_data",
          "data": {
            "image/png": "[encoded data removed]",
            "text/plain": [
              "<Figure size 864x144 with 2 Axes>"
            ]
          },
          "metadata": {
            "needs_background": "light"
          }
        }
      ]
    },
    {
      "cell_type": "code",
      "source": [
        "az.plot_trace(data, var_names=['RecoveryFactor'], legend=True); \n",
        "low_R, mode_R, high_R"
      ],
      "metadata": {
        "colab": {
          "base_uri": "https://localhost:8080/",
          "height": 189
        },
        "outputId": "cd883ac8-5db7-49c6-a964-e00d972a6a4f",
        "id": "sM8k5IDrOCwV"
      },
      "execution_count": 66,
      "outputs": [
        {
          "output_type": "execute_result",
          "data": {
            "text/plain": [
              "(0.01, 0.05, 0.1)"
            ]
          },
          "metadata": {},
          "execution_count": 66
        },
        {
          "output_type": "display_data",
          "data": {
            "image/png": "[encoded data removed]",
            "text/plain": [
              "<Figure size 864x144 with 2 Axes>"
            ]
          },
          "metadata": {
            "needs_background": "light"
          }
        }
      ]
    },
    {
      "cell_type": "code",
      "source": [
        "#az.plot_trace(data, var_names=['ThermalEnergy'], legend=True); \n",
        "#np.shape(data.posterior.ThermalEnergy)\n",
        "#print('volumetric heat of rocks: very similiar for all 3 types')"
      ],
      "metadata": {
        "id": "C3p0-IJyUqPS"
      },
      "execution_count": 29,
      "outputs": []
    },
    {
      "cell_type": "code",
      "source": [
        "P10_MW,P30_MW,P50_MW,P70_MW,P90_MW = np.percentile(data.posterior.MegaWatts, (10, 30, 50, 70, 90))\n",
        "P10_MW,P50_MW,P90_MW"
      ],
      "metadata": {
        "colab": {
          "base_uri": "https://localhost:8080/"
        },
        "id": "QAowrLCXGhZf",
        "outputId": "de191fee-853a-4dfe-9565-cc282e1ac864"
      },
      "execution_count": 31,
      "outputs": [
        {
          "output_type": "execute_result",
          "data": {
            "text/plain": [
              "(7.181570754953302, 18.05345558301739, 34.94342952560687)"
            ]
          },
          "metadata": {},
          "execution_count": 31
        }
      ]
    },
    {
      "cell_type": "code",
      "source": [
        "fig, ax1 = plt.subplots()\n",
        "ax2 = ax1.twinx() \n",
        "\n",
        "ax1.hist(np.squeeze(data.posterior.MegaWatts),50,density=True)\n",
        "ax1.set_ylabel('Count samples', color='blue')\n",
        "ax1.set_xlabel('MegaWatts')\n",
        "\n",
        "ax2.vlines(P10_MW,0,1,'r',label='P10')\n",
        "ax2.vlines(P50_MW,0,1,'b',label='P50')\n",
        "ax2.vlines(P90_MW,0,1,'g',label='P90')\n",
        "ax2.set_ylabel('Cumulative Probability', color='green')\n",
        "ax2.hist(np.squeeze(data.posterior.MegaWatts),50,density=True,cumulative=True,color='green',alpha=0.2)\n",
        "ax2.legend(loc=1)"
      ],
      "metadata": {
        "colab": {
          "base_uri": "https://localhost:8080/",
          "height": 297
        },
        "id": "r85Tb2ojGfi0",
        "outputId": "c756805c-ec32-40ca-eebb-88ed1352ec38"
      },
      "execution_count": 32,
      "outputs": [
        {
          "output_type": "execute_result",
          "data": {
            "text/plain": [
              "<matplotlib.legend.Legend at 0x7fc6afea2dd0>"
            ]
          },
          "metadata": {},
          "execution_count": 32
        },
        {
          "output_type": "display_data",
          "data": {
            "image/png": "[encoded data removed]",
            "text/plain": [
              "<Figure size 432x288 with 2 Axes>"
            ]
          },
          "metadata": {
            "needs_background": "light"
          }
        }
      ]
    },
    {
      "cell_type": "markdown",
      "source": [
        "# Vprior from `pymc3`\n",
        "$V_{prior} = max_a \\sum_{i=1}^N Pr( Power = p_i ) v_a(Power = p_i)$\n",
        "\n",
        "actions:\n",
        "\n",
        "$a_0$ = nothing\n",
        "\n",
        "$a_1$ = build 10 MW Factory\n",
        "\n",
        "$a_2$ = build 20 MW Factory\n",
        "\n",
        "SHOULD PUT INTERMEDIATE ACTION: Drill slim hole..."
      ],
      "metadata": {
        "id": "SEzWAum5t5kN"
      }
    },
    {
      "cell_type": "markdown",
      "source": [
        "|   |  $a_0$=nothing | $a_1$=build 10MW  | $a_2$=build 20 MW  | ... $a_N$  |\n",
        "|---|:-:|:-:|:-:|---|\n",
        "| 10%: MW <= P10  |  0 |  P10_MW - 10MW | P10_MW - 20MW  |   |\n",
        "| 40%: P10 < MW <= P50  |  0 | P30_MW -10MW  | P30_MW -20MW  |   |\n",
        "| 40%: P50 < MW <= P90  |  0 |  P70_MW -10MW | P70_MW -20MW  |   |\n",
        "| 10%: MW > P90  |  0 | P90_MW -10MW  |  P90_MW -20MW  |   |"
      ],
      "metadata": {
        "id": "EZfqtfSThAmY"
      }
    },
    {
      "cell_type": "code",
      "source": [
        "print(P10_MW -10,P10_MW -20)\n",
        "print(P50_MW -10,P50_MW -20)\n",
        "print(P90_MW -10,P90_MW -20)\n",
        "value_array = np.array([[0,P10_MW -10,P10_MW -20],\n",
        "                        [0,P30_MW -10,P30_MW -20],\n",
        "                        [0,P70_MW -10,P70_MW -20],\n",
        "                        [0,P90_MW -10,P90_MW -20]])\n",
        "value_array"
      ],
      "metadata": {
        "colab": {
          "base_uri": "https://localhost:8080/"
        },
        "id": "03iIMLTVrzi7",
        "outputId": "3210ded6-2965-4129-e4d1-39265f8fe9f0"
      },
      "execution_count": 33,
      "outputs": [
        {
          "output_type": "stream",
          "name": "stdout",
          "text": [
            "-2.8184292450466977 -12.818429245046698\n",
            "8.053455583017389 -1.9465444169826114\n",
            "24.943429525606867 14.943429525606867\n"
          ]
        },
        {
          "output_type": "execute_result",
          "data": {
            "text/plain": [
              "array([[  0.        ,  -2.81842925, -12.81842925],\n",
              "       [  0.        ,   2.99328698,  -7.00671302],\n",
              "       [  0.        ,  14.34431249,   4.34431249],\n",
              "       [  0.        ,  24.94342953,  14.94342953]])"
            ]
          },
          "metadata": {},
          "execution_count": 33
        }
      ]
    },
    {
      "cell_type": "markdown",
      "source": [
        "## Calculate Vprior with value_array and midpoint probabilities\n",
        "\n",
        "These are the results of inside summation for all three drilling alternatives $a$ : the *expected outcome (average)* if we plan for at $x_{10MW}$,$x_{20MW}$, given the four possible resource/reservoir estimates."
      ],
      "metadata": {
        "id": "VYDjULsy8P3L"
      }
    },
    {
      "cell_type": "code",
      "source": [
        "v_a_midpoint = []\n",
        "# Column-wise calculation to get v_a\n",
        "for c in range(np.shape(value_array)[1]) :   \n",
        "     cur_v_a_mp = np.sum([0.1, 0.4, 0.4, 0.1]*value_array[:,c])\n",
        "\n",
        "     v_a_midpoint = np.append(v_a_midpoint,cur_v_a_mp)\n",
        "\n",
        "print('\\t do nothing, plan for 10MW, plan for 20MW')\n",
        "v_a_midpoint"
      ],
      "metadata": {
        "colab": {
          "base_uri": "https://localhost:8080/"
        },
        "id": "dXfCdX2y8WJ3",
        "outputId": "972ef249-b703-4b76-f5a7-93c8fa359106"
      },
      "execution_count": 34,
      "outputs": [
        {
          "output_type": "stream",
          "name": "stdout",
          "text": [
            "\t do nothing, plan for 10MW, plan for 20MW\n"
          ]
        },
        {
          "output_type": "execute_result",
          "data": {
            "text/plain": [
              "array([ 0.        ,  9.14753982, -0.85246018])"
            ]
          },
          "metadata": {},
          "execution_count": 34
        }
      ]
    },
    {
      "cell_type": "markdown",
      "source": [
        "<font size=4> $\\max\\limits_a$  : which action will result in highest *VALUE on average*"
      ],
      "metadata": {
        "id": "4WcbP4bZ_LhY"
      }
    },
    {
      "cell_type": "code",
      "source": [
        "Vprior_mp = max(v_a_midpoint)\n",
        "print('Vprior_mp', Vprior_mp)"
      ],
      "metadata": {
        "colab": {
          "base_uri": "https://localhost:8080/"
        },
        "id": "aCfnsnCd_yF6",
        "outputId": "eb6a9eb4-85be-4a0e-804d-8f1f5153e8d6"
      },
      "execution_count": 35,
      "outputs": [
        {
          "output_type": "stream",
          "name": "stdout",
          "text": [
            "Vprior_mp 9.147539816386011\n"
          ]
        }
      ]
    },
    {
      "cell_type": "markdown",
      "source": [
        "18 cents / kiloWatt -hour (California) [ 1e3 kilowatt = megawatt]\n",
        "\n",
        "$\\frac{\\$0.18 *1e3 kW}{megaWatt-hour}$ = $180 / megaWatt-hour "
      ],
      "metadata": {
        "id": "vgcSkIyFJjSr"
      }
    },
    {
      "cell_type": "code",
      "source": [
        "Vprior_mp * 180"
      ],
      "metadata": {
        "id": "eU7k19JVgA07",
        "colab": {
          "base_uri": "https://localhost:8080/"
        },
        "outputId": "4f85147b-0eaf-4e63-b91b-21117f5b2544"
      },
      "execution_count": 36,
      "outputs": [
        {
          "output_type": "execute_result",
          "data": {
            "text/plain": [
              "1646.557166949482"
            ]
          },
          "metadata": {},
          "execution_count": 36
        }
      ]
    },
    {
      "cell_type": "markdown",
      "source": [
        "# Total (Sobol) Sensitivity index"
      ],
      "metadata": {
        "id": "8gdLWoEXt6iw"
      }
    },
    {
      "cell_type": "code",
      "source": [
        "pip install SALib"
      ],
      "metadata": {
        "id": "I6VTKYUlOXNQ",
        "colab": {
          "base_uri": "https://localhost:8080/"
        },
        "outputId": "8f5a1bf2-c40b-465e-ec5a-415480a3b98b"
      },
      "execution_count": 37,
      "outputs": [
        {
          "output_type": "stream",
          "name": "stdout",
          "text": [
            "Collecting SALib\n",
            "  Downloading SALib-1.4.5-py2.py3-none-any.whl (756 kB)\n",
            "\u001b[?25l\r\u001b[K     |▍                               | 10 kB 34.3 MB/s eta 0:00:01\r\u001b[K     |▉                               | 20 kB 42.4 MB/s eta 0:00:01\r\u001b[K     |█▎                              | 30 kB 46.6 MB/s eta 0:00:01\r\u001b[K     |█▊                              | 40 kB 14.3 MB/s eta 0:00:01\r\u001b[K     |██▏                             | 51 kB 12.5 MB/s eta 0:00:01\r\u001b[K     |██▋                             | 61 kB 14.3 MB/s eta 0:00:01\r\u001b[K     |███                             | 71 kB 11.2 MB/s eta 0:00:01\r\u001b[K     |███▌                            | 81 kB 12.1 MB/s eta 0:00:01\r\u001b[K     |████                            | 92 kB 13.4 MB/s eta 0:00:01\r\u001b[K     |████▎                           | 102 kB 12.6 MB/s eta 0:00:01\r\u001b[K     |████▊                           | 112 kB 12.6 MB/s eta 0:00:01\r\u001b[K     |█████▏                          | 122 kB 12.6 MB/s eta 0:00:01\r\u001b[K     |█████▋                          | 133 kB 12.6 MB/s eta 0:00:01\r\u001b[K     |██████                          | 143 kB 12.6 MB/s eta 0:00:01\r\u001b[K     |██████▌                         | 153 kB 12.6 MB/s eta 0:00:01\r\u001b[K     |███████                         | 163 kB 12.6 MB/s eta 0:00:01\r\u001b[K     |███████▍                        | 174 kB 12.6 MB/s eta 0:00:01\r\u001b[K     |███████▉                        | 184 kB 12.6 MB/s eta 0:00:01\r\u001b[K     |████████▎                       | 194 kB 12.6 MB/s eta 0:00:01\r\u001b[K     |████████▋                       | 204 kB 12.6 MB/s eta 0:00:01\r\u001b[K     |█████████                       | 215 kB 12.6 MB/s eta 0:00:01\r\u001b[K     |█████████▌                      | 225 kB 12.6 MB/s eta 0:00:01\r\u001b[K     |██████████                      | 235 kB 12.6 MB/s eta 0:00:01\r\u001b[K     |██████████▍                     | 245 kB 12.6 MB/s eta 0:00:01\r\u001b[K     |██████████▉                     | 256 kB 12.6 MB/s eta 0:00:01\r\u001b[K     |███████████▎                    | 266 kB 12.6 MB/s eta 0:00:01\r\u001b[K     |███████████▊                    | 276 kB 12.6 MB/s eta 0:00:01\r\u001b[K     |████████████▏                   | 286 kB 12.6 MB/s eta 0:00:01\r\u001b[K     |████████████▋                   | 296 kB 12.6 MB/s eta 0:00:01\r\u001b[K     |█████████████                   | 307 kB 12.6 MB/s eta 0:00:01\r\u001b[K     |█████████████▍                  | 317 kB 12.6 MB/s eta 0:00:01\r\u001b[K     |█████████████▉                  | 327 kB 12.6 MB/s eta 0:00:01\r\u001b[K     |██████████████▎                 | 337 kB 12.6 MB/s eta 0:00:01\r\u001b[K     |██████████████▊                 | 348 kB 12.6 MB/s eta 0:00:01\r\u001b[K     |███████████████▏                | 358 kB 12.6 MB/s eta 0:00:01\r\u001b[K     |███████████████▋                | 368 kB 12.6 MB/s eta 0:00:01\r\u001b[K     |████████████████                | 378 kB 12.6 MB/s eta 0:00:01\r\u001b[K     |████████████████▌               | 389 kB 12.6 MB/s eta 0:00:01\r\u001b[K     |█████████████████               | 399 kB 12.6 MB/s eta 0:00:01\r\u001b[K     |█████████████████▎              | 409 kB 12.6 MB/s eta 0:00:01\r\u001b[K     |█████████████████▊              | 419 kB 12.6 MB/s eta 0:00:01\r\u001b[K     |██████████████████▏             | 430 kB 12.6 MB/s eta 0:00:01\r\u001b[K     |██████████████████▋             | 440 kB 12.6 MB/s eta 0:00:01\r\u001b[K     |███████████████████             | 450 kB 12.6 MB/s eta 0:00:01\r\u001b[K     |███████████████████▌            | 460 kB 12.6 MB/s eta 0:00:01\r\u001b[K     |████████████████████            | 471 kB 12.6 MB/s eta 0:00:01\r\u001b[K     |████████████████████▍           | 481 kB 12.6 MB/s eta 0:00:01\r\u001b[K     |████████████████████▉           | 491 kB 12.6 MB/s eta 0:00:01\r\u001b[K     |█████████████████████▎          | 501 kB 12.6 MB/s eta 0:00:01\r\u001b[K     |█████████████████████▋          | 512 kB 12.6 MB/s eta 0:00:01\r\u001b[K     |██████████████████████          | 522 kB 12.6 MB/s eta 0:00:01\r\u001b[K     |██████████████████████▌         | 532 kB 12.6 MB/s eta 0:00:01\r\u001b[K     |███████████████████████         | 542 kB 12.6 MB/s eta 0:00:01\r\u001b[K     |███████████████████████▍        | 552 kB 12.6 MB/s eta 0:00:01\r\u001b[K     |███████████████████████▉        | 563 kB 12.6 MB/s eta 0:00:01\r\u001b[K     |████████████████████████▎       | 573 kB 12.6 MB/s eta 0:00:01\r\u001b[K     |████████████████████████▊       | 583 kB 12.6 MB/s eta 0:00:01\r\u001b[K     |█████████████████████████▏      | 593 kB 12.6 MB/s eta 0:00:01\r\u001b[K     |█████████████████████████▌      | 604 kB 12.6 MB/s eta 0:00:01\r\u001b[K     |██████████████████████████      | 614 kB 12.6 MB/s eta 0:00:01\r\u001b[K     |██████████████████████████▍     | 624 kB 12.6 MB/s eta 0:00:01\r\u001b[K     |██████████████████████████▉     | 634 kB 12.6 MB/s eta 0:00:01\r\u001b[K     |███████████████████████████▎    | 645 kB 12.6 MB/s eta 0:00:01\r\u001b[K     |███████████████████████████▊    | 655 kB 12.6 MB/s eta 0:00:01\r\u001b[K     |████████████████████████████▏   | 665 kB 12.6 MB/s eta 0:00:01\r\u001b[K     |████████████████████████████▋   | 675 kB 12.6 MB/s eta 0:00:01\r\u001b[K     |█████████████████████████████   | 686 kB 12.6 MB/s eta 0:00:01\r\u001b[K     |█████████████████████████████▌  | 696 kB 12.6 MB/s eta 0:00:01\r\u001b[K     |█████████████████████████████▉  | 706 kB 12.6 MB/s eta 0:00:01\r\u001b[K     |██████████████████████████████▎ | 716 kB 12.6 MB/s eta 0:00:01\r\u001b[K     |██████████████████████████████▊ | 727 kB 12.6 MB/s eta 0:00:01\r\u001b[K     |███████████████████████████████▏| 737 kB 12.6 MB/s eta 0:00:01\r\u001b[K     |███████████████████████████████▋| 747 kB 12.6 MB/s eta 0:00:01\r\u001b[K     |████████████████████████████████| 756 kB 12.6 MB/s \n",
            "\u001b[?25hRequirement already satisfied: importlib-metadata in /usr/local/lib/python3.7/dist-packages (from SALib) (4.11.1)\n",
            "Requirement already satisfied: scipy in /usr/local/lib/python3.7/dist-packages (from SALib) (1.4.1)\n",
            "Requirement already satisfied: wheel in /usr/local/lib/python3.7/dist-packages (from SALib) (0.37.1)\n",
            "Requirement already satisfied: numpy in /usr/local/lib/python3.7/dist-packages (from SALib) (1.21.5)\n",
            "Requirement already satisfied: pandas in /usr/local/lib/python3.7/dist-packages (from SALib) (1.3.5)\n",
            "Collecting pathos\n",
            "  Downloading pathos-0.2.8-py2.py3-none-any.whl (81 kB)\n",
            "\u001b[?25l\r\u001b[K     |████                            | 10 kB 33.0 MB/s eta 0:00:01\r\u001b[K     |████████                        | 20 kB 38.9 MB/s eta 0:00:01\r\u001b[K     |████████████                    | 30 kB 46.0 MB/s eta 0:00:01\r\u001b[K     |████████████████                | 40 kB 49.8 MB/s eta 0:00:01\r\u001b[K     |████████████████████            | 51 kB 52.6 MB/s eta 0:00:01\r\u001b[K     |████████████████████████        | 61 kB 56.3 MB/s eta 0:00:01\r\u001b[K     |████████████████████████████    | 71 kB 58.4 MB/s eta 0:00:01\r\u001b[K     |████████████████████████████████| 81 kB 7.4 MB/s \n",
            "\u001b[?25hRequirement already satisfied: matplotlib in /usr/local/lib/python3.7/dist-packages (from SALib) (3.2.2)\n",
            "Requirement already satisfied: setuptools in /usr/local/lib/python3.7/dist-packages (from SALib) (57.4.0)\n",
            "Requirement already satisfied: zipp>=0.5 in /usr/local/lib/python3.7/dist-packages (from importlib-metadata->SALib) (3.7.0)\n",
            "Requirement already satisfied: typing-extensions>=3.6.4 in /usr/local/lib/python3.7/dist-packages (from importlib-metadata->SALib) (3.10.0.2)\n",
            "Requirement already satisfied: pyparsing!=2.0.4,!=2.1.2,!=2.1.6,>=2.0.1 in /usr/local/lib/python3.7/dist-packages (from matplotlib->SALib) (3.0.7)\n",
            "Requirement already satisfied: kiwisolver>=1.0.1 in /usr/local/lib/python3.7/dist-packages (from matplotlib->SALib) (1.3.2)\n",
            "Requirement already satisfied: python-dateutil>=2.1 in /usr/local/lib/python3.7/dist-packages (from matplotlib->SALib) (2.8.2)\n",
            "Requirement already satisfied: cycler>=0.10 in /usr/local/lib/python3.7/dist-packages (from matplotlib->SALib) (0.11.0)\n",
            "Requirement already satisfied: six>=1.5 in /usr/local/lib/python3.7/dist-packages (from python-dateutil>=2.1->matplotlib->SALib) (1.15.0)\n",
            "Requirement already satisfied: pytz>=2017.3 in /usr/local/lib/python3.7/dist-packages (from pandas->SALib) (2018.9)\n",
            "Collecting pox>=0.3.0\n",
            "  Downloading pox-0.3.0-py2.py3-none-any.whl (30 kB)\n",
            "Collecting ppft>=1.6.6.4\n",
            "  Downloading ppft-1.6.6.4-py3-none-any.whl (65 kB)\n",
            "\u001b[K     |████████████████████████████████| 65 kB 3.0 MB/s \n",
            "\u001b[?25hRequirement already satisfied: dill>=0.3.4 in /usr/local/lib/python3.7/dist-packages (from pathos->SALib) (0.3.4)\n",
            "Requirement already satisfied: multiprocess>=0.70.12 in /usr/local/lib/python3.7/dist-packages (from pathos->SALib) (0.70.12.2)\n",
            "Installing collected packages: ppft, pox, pathos, SALib\n",
            "Successfully installed SALib-1.4.5 pathos-0.2.8 pox-0.3.0 ppft-1.6.6.4\n"
          ]
        }
      ]
    },
    {
      "cell_type": "code",
      "source": [
        "from SALib.sample import saltelli\n",
        "from SALib.analyze import sobol\n",
        "from SALib.test_functions import Ishigami\n",
        "import numpy as np\n",
        "\n"
      ],
      "metadata": {
        "id": "RUPjUuaZt4H1"
      },
      "execution_count": 39,
      "outputs": []
    },
    {
      "cell_type": "code",
      "source": [
        "##EXAMPLE\n",
        "# Define the model inputs\n",
        "# problem = {\n",
        "#     'num_vars': 3,\n",
        "#     'names': ['x1', 'x2', 'x3'],\n",
        "#     'bounds': [[-3.14159265359, 3.14159265359],\n",
        "#                [-3.14159265359, 3.14159265359],\n",
        "#                [-3.14159265359, 3.14159265359]]\n",
        "# }\n",
        "\n",
        "# # Generate samples\n",
        "# param_values = saltelli.sample(problem, 1024)\n",
        "\n",
        "# # Run model (example)\n",
        "# Y = Ishigami.evaluate(param_values)\n",
        "\n",
        "# # Perform analysis\n",
        "# # Y : numpy.array\n",
        "# #     A NumPy array containing the model outputs\n",
        "# # calc_second_order : bool\n",
        "# #     Calculate second-order sensitivities (default True)\n",
        "# # num_resamples : int\n",
        "# #     The number of resamples (default 100)\n",
        "# # conf_level : float\n",
        "# #     The confidence interval level (default 0.95)\n",
        "# # print_to_console : bool\n",
        "# #     Print results directly to console (default False)\n",
        "# # keep_resamples : bool\n",
        "# Si = sobol.analyze(problem, Y, print_to_console=True)\n",
        "\n",
        "# # Print the first-order sensitivity indices\n",
        "# print(Si['S1'])"
      ],
      "metadata": {
        "id": "D1B_cqEfZwHV"
      },
      "execution_count": 38,
      "outputs": []
    },
    {
      "cell_type": "markdown",
      "source": [
        "## Dictionary of inputs, distributions and Y is MegaWatts"
      ],
      "metadata": {
        "id": "8Gfm87aJuYic"
      }
    },
    {
      "cell_type": "code",
      "source": [
        "VolHeat = {\n",
        "    'num_vars': 3,\n",
        "    'names': ['resT', 'resVol', 'RecoveryFactor'],\n",
        "    # 'bounds': [[np.min(data.posterior.resT),np.max(data.posterior.resT)],\n",
        "    #            [np.min(np.squeeze(data.posterior.resVol)),np.max(np.squeeze(data.posterior.resVol))],\n",
        "    #            [np.min(np.squeeze(data.posterior.RecoveryFactor)),np.max(np.squeeze(data.posterior.RecoveryFactor))]]\n",
        "    'bounds': [[mu_T_res,sigma_T_res],\n",
        "               [mu_volume,sigma_volume],\n",
        "               #triangular with width (scale) and location of peak.\n",
        "              # Location of peak is in percentage of width. Lower bound assumed to be zero.\n",
        "               [high_R,mode_R/high_R]],\n",
        "    #'groups': ['G1', 'G2', 'G3'],\n",
        "    'dists': ['norm', 'norm', 'triang']\n",
        "}"
      ],
      "metadata": {
        "id": "dwWWmAGYuPxl"
      },
      "execution_count": 56,
      "outputs": []
    },
    {
      "cell_type": "code",
      "source": [
        "mode_R/high_R, mode_R, high_R"
      ],
      "metadata": {
        "colab": {
          "base_uri": "https://localhost:8080/"
        },
        "id": "3YpEePDt7_85",
        "outputId": "5f6f7739-4070-4f15-8c55-12537e31e5aa"
      },
      "execution_count": 42,
      "outputs": [
        {
          "output_type": "execute_result",
          "data": {
            "text/plain": [
              "(0.5, 0.05, 0.1)"
            ]
          },
          "metadata": {},
          "execution_count": 42
        }
      ]
    },
    {
      "cell_type": "code",
      "source": [
        "#np.squeeze(data.posterior.MegaWatts.values)[0:10]\n",
        "np.min(data.posterior.resT).values"
      ],
      "metadata": {
        "colab": {
          "base_uri": "https://localhost:8080/"
        },
        "id": "sdBffY_wxwOm",
        "outputId": "af368946-a2b8-49bb-fee9-4432e8e6e3a7"
      },
      "execution_count": null,
      "outputs": [
        {
          "output_type": "execute_result",
          "data": {
            "text/plain": [
              "array(72.54401534)"
            ]
          },
          "metadata": {},
          "execution_count": 81
        }
      ]
    },
    {
      "cell_type": "markdown",
      "source": [
        "SALib.sample.saltelli.sample\n",
        "*skip_values and N be a power of 2, where N is the desired number of samples*"
      ],
      "metadata": {
        "id": "6pF7ruw-MfjP"
      }
    },
    {
      "cell_type": "code",
      "source": [
        "param_values = saltelli.sample(VolHeat, 1024)\n",
        "param_values"
      ],
      "metadata": {
        "colab": {
          "base_uri": "https://localhost:8080/"
        },
        "id": "z3KZx0kw3vYO",
        "outputId": "eb164fb2-0e5e-4aaf-bed1-48c8f6cab487"
      },
      "execution_count": 57,
      "outputs": [
        {
          "output_type": "execute_result",
          "data": {
            "text/plain": [
              "array([[9.04995854e+01, 4.37044261e+00, 4.73156373e-02],\n",
              "       [1.49338952e+02, 4.37044261e+00, 4.73156373e-02],\n",
              "       [9.04995854e+01, 5.28738780e+00, 4.73156373e-02],\n",
              "       ...,\n",
              "       [1.42351562e+02, 5.65016882e+00, 5.86306178e-02],\n",
              "       [1.42351562e+02, 5.66567271e+00, 8.14463405e-02],\n",
              "       [1.42351562e+02, 5.66567271e+00, 5.86306178e-02]])"
            ]
          },
          "metadata": {},
          "execution_count": 57
        }
      ]
    },
    {
      "cell_type": "markdown",
      "source": [
        "Calculate MegaWatts"
      ],
      "metadata": {
        "id": "r-z3CXqu3xMl"
      }
    },
    {
      "cell_type": "code",
      "source": [
        "# Thermal Energy  = ((1.0-phi)*c_pr*rho_r + (phi*c_pf*rho_f))*(resT-T_ref)*resVol*1e9\n",
        "muU_sa = ((1.0-phi)*c_pr*rho_r + (phi*c_pf*rho_f))*(param_values[:,0]-T_ref)*param_values[:,1]*1e9 #km**3 to m**3\n",
        "# EQUATION 6 of Ciriaco: THERMAL ENERGY\n",
        "MWe_sa = ((muU_sa*eta_c*param_values[:,2])/1e6)/(load_factor*lifespan*60*60*24*365) "
      ],
      "metadata": {
        "id": "XBS5caNj3xYu"
      },
      "execution_count": 58,
      "outputs": []
    },
    {
      "cell_type": "code",
      "source": [
        "# np.shape(VolHeat) \n",
        "MWe_sa"
      ],
      "metadata": {
        "colab": {
          "base_uri": "https://localhost:8080/"
        },
        "id": "0yKJ2jB3BiDd",
        "outputId": "c9ba8c96-a0a2-471f-c7f7-e73e05bddeef"
      },
      "execution_count": 59,
      "outputs": [
        {
          "output_type": "execute_result",
          "data": {
            "text/plain": [
              "array([ 8.47377047, 15.07766488, 10.25161858, ..., 22.89771703,\n",
              "       31.89549511, 22.96054768])"
            ]
          },
          "metadata": {},
          "execution_count": 59
        }
      ]
    },
    {
      "cell_type": "code",
      "source": [
        "\n",
        "# Perform analysis\n",
        "Si = sobol.analyze(VolHeat, MWe_sa, num_resamples=100, print_to_console=True)\n"
      ],
      "metadata": {
        "colab": {
          "base_uri": "https://localhost:8080/"
        },
        "id": "Rrm7WGULxK6z",
        "outputId": "f451159c-7478-4223-803e-6f8680f6b500"
      },
      "execution_count": 60,
      "outputs": [
        {
          "output_type": "stream",
          "name": "stdout",
          "text": [
            "                      ST   ST_conf\n",
            "resT            0.078822  0.011844\n",
            "resVol          0.499245  0.056266\n",
            "RecoveryFactor  0.515091  0.058840\n",
            "                      S1   S1_conf\n",
            "resT            0.056039  0.023938\n",
            "resVol          0.416300  0.059917\n",
            "RecoveryFactor  0.425053  0.056692\n",
            "                                S2   S2_conf\n",
            "(resT, resVol)            0.011254  0.045362\n",
            "(resT, RecoveryFactor)    0.016488  0.045927\n",
            "(resVol, RecoveryFactor)  0.071592  0.113585\n"
          ]
        }
      ]
    },
    {
      "cell_type": "code",
      "source": [
        "# Print the first-order sensitivity indices\n",
        "print(np.round(Si['S1'],4))"
      ],
      "metadata": {
        "colab": {
          "base_uri": "https://localhost:8080/"
        },
        "id": "K4jGsR_xci6F",
        "outputId": "569a9195-c85e-4a28-d663-1191f5c5695a"
      },
      "execution_count": 61,
      "outputs": [
        {
          "output_type": "stream",
          "name": "stdout",
          "text": [
            "[0.056  0.4163 0.4251]\n"
          ]
        }
      ]
    },
    {
      "cell_type": "markdown",
      "source": [
        "'ST' : If the total-order indices are substantially larger than the first-order indices, then there is likely higher-order interactions occurring."
      ],
      "metadata": {
        "id": "Rig7_pGzPrE8"
      }
    },
    {
      "cell_type": "code",
      "source": [
        "print(np.round(Si['ST'],4))"
      ],
      "metadata": {
        "colab": {
          "base_uri": "https://localhost:8080/"
        },
        "id": "SdAjBaeiPmr6",
        "outputId": "5eb81c71-d464-4e95-8c15-09be933b13b0"
      },
      "execution_count": 62,
      "outputs": [
        {
          "output_type": "stream",
          "name": "stdout",
          "text": [
            "[0.0788 0.4992 0.5151]\n"
          ]
        }
      ]
    },
    {
      "cell_type": "markdown",
      "source": [
        " We can look at the second-order indices to see these higher-order interactions:\n",
        "\n"
      ],
      "metadata": {
        "id": "YuR22m_WP7Je"
      }
    },
    {
      "cell_type": "code",
      "source": [
        "print(\"x1-x2:\", np.round(Si['S2'][0,1],3))\n",
        "print(\"x1-x3:\", np.round(Si['S2'][0,2],3))\n",
        "print(\"x2-x3:\", np.round(Si['S2'][1,2],3))"
      ],
      "metadata": {
        "colab": {
          "base_uri": "https://localhost:8080/"
        },
        "id": "Fm9ZQL6VP7YV",
        "outputId": "7fa25be6-3c09-48bd-f606-82b1de8826ca"
      },
      "execution_count": 63,
      "outputs": [
        {
          "output_type": "stream",
          "name": "stdout",
          "text": [
            "x1-x2: 0.011\n",
            "x1-x3: 0.016\n",
            "x2-x3: 0.072\n"
          ]
        }
      ]
    },
    {
      "cell_type": "code",
      "source": [
        "Si.plot()\n",
        "plt.tight_layout()"
      ],
      "metadata": {
        "id": "lz24hcKfxwzc",
        "colab": {
          "base_uri": "https://localhost:8080/",
          "height": 298
        },
        "outputId": "9555bf38-a2c0-41ee-ab62-32b8b4503d1c"
      },
      "execution_count": 64,
      "outputs": [
        {
          "output_type": "display_data",
          "data": {
            "image/png": "[encoded data removed]",
            "text/plain": [
              "<Figure size 432x288 with 3 Axes>"
            ]
          },
          "metadata": {
            "needs_background": "light"
          }
        }
      ]
    },
    {
      "cell_type": "code",
      "source": [
        "resT"
      ],
      "metadata": {
        "colab": {
          "base_uri": "https://localhost:8080/",
          "height": 39
        },
        "id": "lo3A2SRYzAz5",
        "outputId": "65a822de-63c8-496f-da67-08ba8172b334"
      },
      "execution_count": 65,
      "outputs": [
        {
          "output_type": "execute_result",
          "data": {
            "text/latex": "$\\text{resT} \\sim \\text{Normal}(\\mathit{mu}=150.0,~\\mathit{sigma}=20.0)$",
            "text/plain": [
              "resT ~ Normal"
            ]
          },
          "metadata": {},
          "execution_count": 65
        }
      ]
    },
    {
      "cell_type": "code",
      "source": [
        "T_ref "
      ],
      "metadata": {
        "colab": {
          "base_uri": "https://localhost:8080/"
        },
        "id": "agyByUfmhZUE",
        "outputId": "cd031cb0-f66a-4d2c-ccc7-f5164c08b463"
      },
      "execution_count": null,
      "outputs": [
        {
          "output_type": "execute_result",
          "data": {
            "text/plain": [
              "15"
            ]
          },
          "metadata": {},
          "execution_count": 92
        }
      ]
    },
    {
      "cell_type": "code",
      "source": [
        ""
      ],
      "metadata": {
        "id": "oWdUYAwGhZ3z"
      },
      "execution_count": null,
      "outputs": []
    }
  ]
}